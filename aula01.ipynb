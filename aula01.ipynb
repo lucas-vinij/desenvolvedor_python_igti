{
  "nbformat": 4,
  "nbformat_minor": 0,
  "metadata": {
    "colab": {
      "provenance": [],
      "collapsed_sections": [],
      "authorship_tag": "ABX9TyN9IEoNoQuJXiVYpCvNmcgj",
      "include_colab_link": true
    },
    "kernelspec": {
      "name": "python3",
      "display_name": "Python 3"
    },
    "language_info": {
      "name": "python"
    }
  },
  "cells": [
    {
      "cell_type": "markdown",
      "metadata": {
        "id": "view-in-github",
        "colab_type": "text"
      },
      "source": [
        "<a href=\"https://colab.research.google.com/github/lucas-vinij/desenvolvedor_python_igti/blob/main/aula01.ipynb\" target=\"_parent\"><img src=\"https://colab.research.google.com/assets/colab-badge.svg\" alt=\"Open In Colab\"/></a>"
      ]
    },
    {
      "cell_type": "markdown",
      "source": [
        "# Aula 01"
      ],
      "metadata": {
        "id": "3g7plHrqQRr9"
      }
    },
    {
      "cell_type": "code",
      "execution_count": 1,
      "metadata": {
        "colab": {
          "base_uri": "https://localhost:8080/"
        },
        "id": "1NEqcDDPPFXF",
        "outputId": "c54affa1-78f5-4364-dfa5-b6b2bd23edac"
      },
      "outputs": [
        {
          "output_type": "stream",
          "name": "stdout",
          "text": [
            "Olá Lucas Vinicius,seja bem-vindo!\n"
          ]
        }
      ],
      "source": [
        "nome = 'Lucas Vinicius'\n",
        "print(f'Olá {nome}, seja bem-vindo!')"
      ]
    }
  ]
}