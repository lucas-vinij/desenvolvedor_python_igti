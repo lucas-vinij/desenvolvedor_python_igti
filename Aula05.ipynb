{
  "nbformat": 4,
  "nbformat_minor": 0,
  "metadata": {
    "colab": {
      "provenance": [],
      "collapsed_sections": [],
      "authorship_tag": "ABX9TyPDUeRNCo+Qn+54LM3+bkhO",
      "include_colab_link": true
    },
    "kernelspec": {
      "name": "python3",
      "display_name": "Python 3"
    },
    "language_info": {
      "name": "python"
    }
  },
  "cells": [
    {
      "cell_type": "markdown",
      "metadata": {
        "id": "view-in-github",
        "colab_type": "text"
      },
      "source": [
        "<a href=\"https://colab.research.google.com/github/lucas-vinij/desenvolvedor_python_igti/blob/main/Aula05.ipynb\" target=\"_parent\"><img src=\"https://colab.research.google.com/assets/colab-badge.svg\" alt=\"Open In Colab\"/></a>"
      ]
    },
    {
      "cell_type": "markdown",
      "source": [
        "# Estruturas de Dados "
      ],
      "metadata": {
        "id": "GbqL74j5IBOe"
      }
    },
    {
      "cell_type": "code",
      "execution_count": null,
      "metadata": {
        "colab": {
          "base_uri": "https://localhost:8080/"
        },
        "id": "g7rCuX8LH1rL",
        "outputId": "75d1a3ec-3f19-430b-ba6d-1a32ab24c0de"
      },
      "outputs": [
        {
          "output_type": "stream",
          "name": "stdout",
          "text": [
            "Maior idade:  49\n"
          ]
        }
      ],
      "source": [
        "p1 = 27\n",
        "p2 = 49\n",
        "p3 = 12\n",
        "\n",
        "if p1 >= p2:\n",
        "  if p1 >= p3:\n",
        "    print('Maior idade: ',p1)\n",
        "elif p2 >= p3:\n",
        "  print('Maior idade: ', p2)\n",
        "else:\n",
        "  print('Maior idade: ',p3)"
      ]
    },
    {
      "cell_type": "code",
      "source": [
        "p = [27,49,12]\n",
        "max(p), min(p)"
      ],
      "metadata": {
        "colab": {
          "base_uri": "https://localhost:8080/"
        },
        "id": "22L__KlSQ2HG",
        "outputId": "a644ca6b-7fd6-42a7-9c99-ac38809de0e2"
      },
      "execution_count": null,
      "outputs": [
        {
          "output_type": "execute_result",
          "data": {
            "text/plain": [
              "(49, 12)"
            ]
          },
          "metadata": {},
          "execution_count": 6
        }
      ]
    },
    {
      "cell_type": "code",
      "source": [
        "# list, tuple, set(conjunto), dict\n"
      ],
      "metadata": {
        "id": "tg8g9-2FRG2d"
      },
      "execution_count": null,
      "outputs": []
    },
    {
      "cell_type": "code",
      "source": [
        "# Idade mais avancada \n",
        "idade = (3,4,5,6,10,20,35)\n",
        "max(idade), min(idade)"
      ],
      "metadata": {
        "colab": {
          "base_uri": "https://localhost:8080/"
        },
        "id": "C_jFH74aSAch",
        "outputId": "91dbeefa-cd56-4041-94f8-deb73785725f"
      },
      "execution_count": null,
      "outputs": [
        {
          "output_type": "execute_result",
          "data": {
            "text/plain": [
              "(35, 3)"
            ]
          },
          "metadata": {},
          "execution_count": 10
        }
      ]
    },
    {
      "cell_type": "markdown",
      "source": [
        "# Lista"
      ],
      "metadata": {
        "id": "q95Dg9BUSq1H"
      }
    },
    {
      "cell_type": "code",
      "source": [
        "lista = [1,2,3,4]\n",
        "lsta = [3,4,2,1]\n",
        "lta = [1,2,3,4]\n",
        "lista == lta, lista ==  lsta\n"
      ],
      "metadata": {
        "colab": {
          "base_uri": "https://localhost:8080/"
        },
        "id": "q0D448FcSM5e",
        "outputId": "708445c4-188e-4c71-b4a8-9c1220e755e4"
      },
      "execution_count": null,
      "outputs": [
        {
          "output_type": "execute_result",
          "data": {
            "text/plain": [
              "(True, False)"
            ]
          },
          "metadata": {},
          "execution_count": 20
        }
      ]
    },
    {
      "cell_type": "code",
      "source": [
        "['um','dois',None, 4]"
      ],
      "metadata": {
        "colab": {
          "base_uri": "https://localhost:8080/"
        },
        "id": "4nPOSl15TbZS",
        "outputId": "f6143ff5-0b11-488f-890b-b4fb352e36c2"
      },
      "execution_count": null,
      "outputs": [
        {
          "output_type": "execute_result",
          "data": {
            "text/plain": [
              "['um', 'dois', None, 4]"
            ]
          },
          "metadata": {},
          "execution_count": 21
        }
      ]
    },
    {
      "cell_type": "code",
      "source": [
        "l = [0,1]\n",
        "[l,'dois','tres',[4,5],'seis']"
      ],
      "metadata": {
        "colab": {
          "base_uri": "https://localhost:8080/"
        },
        "id": "SXDWl_zjTgAQ",
        "outputId": "d467f6a0-eb80-44eb-97a5-61c7ebcde9bd"
      },
      "execution_count": null,
      "outputs": [
        {
          "output_type": "execute_result",
          "data": {
            "text/plain": [
              "[[0, 1], 'dois', 'tres', [4, 5], 'seis']"
            ]
          },
          "metadata": {},
          "execution_count": 24
        }
      ]
    },
    {
      "cell_type": "code",
      "source": [
        "lista_vazia = []"
      ],
      "metadata": {
        "id": "b7rPulm7Tx18"
      },
      "execution_count": null,
      "outputs": []
    },
    {
      "cell_type": "code",
      "source": [
        "lista = [2, 'a',5.44,True,None, 'casa']\n",
        "lista[0],lista[3], lista[-1]"
      ],
      "metadata": {
        "colab": {
          "base_uri": "https://localhost:8080/"
        },
        "id": "Ia3IlqnbTz7h",
        "outputId": "2ce7dbab-68a5-49de-e09d-49b7ead42179"
      },
      "execution_count": null,
      "outputs": [
        {
          "output_type": "execute_result",
          "data": {
            "text/plain": [
              "(2, True, 'casa')"
            ]
          },
          "metadata": {},
          "execution_count": 29
        }
      ]
    },
    {
      "cell_type": "code",
      "source": [
        "idades = [27,49,12, 67,21,34,18,56,94,34,2,43,1,34,22]\n",
        "max(idades),min(idades)"
      ],
      "metadata": {
        "colab": {
          "base_uri": "https://localhost:8080/"
        },
        "id": "7QkiYQJdcCSs",
        "outputId": "99adac7e-00a8-40cf-9478-d546c7c6c3a0"
      },
      "execution_count": null,
      "outputs": [
        {
          "output_type": "execute_result",
          "data": {
            "text/plain": [
              "(94, 1)"
            ]
          },
          "metadata": {},
          "execution_count": 33
        }
      ]
    },
    {
      "cell_type": "code",
      "source": [
        "idades.append('ADAFAFASF')\n",
        "idades[-1]\n",
        "idades[0] = 28\n",
        "idades[0]\n",
        "idades.append(2 == 5/2)\n",
        "print(idades)\n"
      ],
      "metadata": {
        "colab": {
          "base_uri": "https://localhost:8080/"
        },
        "id": "9R80w0q_dVtz",
        "outputId": "434a7d22-329a-4fdd-a59a-4c23f21f8b40"
      },
      "execution_count": null,
      "outputs": [
        {
          "output_type": "stream",
          "name": "stdout",
          "text": [
            "[28, 49, 12, 67, 21, 34, 18, 56, 94, 34, 2, 43, 1, 34, 22, 'ADAFAFASF', 'ADAFAFASF', 'ADAFAFASF', 'ADAFAFASF', False, 'ADAFAFASF', False, 'ADAFAFASF', False]\n"
          ]
        }
      ]
    },
    {
      "cell_type": "code",
      "source": [
        "lista[-1] = 1\n",
        "lista[-1] += 2 \n",
        "lista[-1]\n",
        "idades.remove('ADAFAFASF')\n",
        "\n",
        "print(idades)\n"
      ],
      "metadata": {
        "colab": {
          "base_uri": "https://localhost:8080/"
        },
        "id": "35RP1xDRdeLB",
        "outputId": "8a629c3a-dc25-4972-a2e1-a6b17e624b25"
      },
      "execution_count": null,
      "outputs": [
        {
          "output_type": "stream",
          "name": "stdout",
          "text": [
            "[28, 49, 12, 67, 21, 34, 18, 56, 94, 34, 2, 43, 1, 34, 22, 'ADAFAFASF', 'ADAFAFASF', False, 'ADAFAFASF', False, 'ADAFAFASF', False]\n"
          ]
        }
      ]
    },
    {
      "cell_type": "code",
      "source": [
        "l1 = [30, 10, 20]\n",
        "l2 = [2, 'a', 5.44, True]\n",
        "\n",
        "print(l1 + l2)\n",
        "print(l1 * 3)\n",
        "print(10 in l1)"
      ],
      "metadata": {
        "colab": {
          "base_uri": "https://localhost:8080/"
        },
        "id": "3_xMP8byd_zS",
        "outputId": "464d0b1a-af1e-4ea0-f75b-b5fc6eaf1f8b"
      },
      "execution_count": null,
      "outputs": [
        {
          "output_type": "stream",
          "name": "stdout",
          "text": [
            "[30, 10, 20, 2, 'a', 5.44, True]\n",
            "[30, 10, 20, 30, 10, 20, 30, 10, 20]\n",
            "True\n"
          ]
        }
      ]
    },
    {
      "cell_type": "code",
      "source": [
        "print(len(l2))\n",
        "print(sum(l1))\n",
        "print(max(l1))\n",
        "print(min(l1))"
      ],
      "metadata": {
        "colab": {
          "base_uri": "https://localhost:8080/"
        },
        "id": "UjC3KbrdejLl",
        "outputId": "7e49fc72-1cca-4032-b44b-a6ee11f29015"
      },
      "execution_count": null,
      "outputs": [
        {
          "output_type": "stream",
          "name": "stdout",
          "text": [
            "4\n",
            "60\n",
            "30\n",
            "10\n"
          ]
        }
      ]
    },
    {
      "cell_type": "code",
      "source": [
        "\n",
        "l2.reverse()\n",
        "print(l2)"
      ],
      "metadata": {
        "colab": {
          "base_uri": "https://localhost:8080/"
        },
        "id": "ntQ1lyiLesGZ",
        "outputId": "af7be3f5-16ad-42f4-dd6e-5f7b751f000c"
      },
      "execution_count": null,
      "outputs": [
        {
          "output_type": "stream",
          "name": "stdout",
          "text": [
            "[True, 5.44, 'a', 2]\n"
          ]
        }
      ]
    },
    {
      "cell_type": "code",
      "source": [
        "l1.extend([10,20,30,40,10])\n",
        "print(l1)"
      ],
      "metadata": {
        "colab": {
          "base_uri": "https://localhost:8080/"
        },
        "id": "GFlxa4Rne1oW",
        "outputId": "c926b705-bc64-407b-d64b-96a75c59d1dc"
      },
      "execution_count": null,
      "outputs": [
        {
          "output_type": "stream",
          "name": "stdout",
          "text": [
            "[30, 10, 20, 10, 20, 30, 40, 10, 10, 20, 30, 40, 10]\n"
          ]
        }
      ]
    },
    {
      "cell_type": "code",
      "source": [
        "l1.sort()"
      ],
      "metadata": {
        "id": "fR_yI39wfHQ1"
      },
      "execution_count": null,
      "outputs": []
    },
    {
      "cell_type": "code",
      "source": [
        "l1"
      ],
      "metadata": {
        "colab": {
          "base_uri": "https://localhost:8080/"
        },
        "id": "hKJUMrBQfMNf",
        "outputId": "3849aaa3-5b6c-41e9-a804-88ad71600c48"
      },
      "execution_count": null,
      "outputs": [
        {
          "output_type": "execute_result",
          "data": {
            "text/plain": [
              "[10, 10, 10, 10, 10, 20, 20, 20, 30, 30, 30, 40, 40]"
            ]
          },
          "metadata": {},
          "execution_count": 63
        }
      ]
    },
    {
      "cell_type": "code",
      "source": [
        "l2.insert(2,'novo valor')\n",
        "l2"
      ],
      "metadata": {
        "colab": {
          "base_uri": "https://localhost:8080/"
        },
        "id": "UkefWFxdfNWr",
        "outputId": "e71cd43b-1c67-4068-f601-90572103471b"
      },
      "execution_count": null,
      "outputs": [
        {
          "output_type": "execute_result",
          "data": {
            "text/plain": [
              "[True, 5.44, 'novo valor', 'a', 2]"
            ]
          },
          "metadata": {},
          "execution_count": 64
        }
      ]
    },
    {
      "cell_type": "code",
      "source": [
        "l2.pop() # DEL ultimo elemento"
      ],
      "metadata": {
        "colab": {
          "base_uri": "https://localhost:8080/"
        },
        "id": "G981GnjWfRIJ",
        "outputId": "cca99db8-c031-4051-939b-b4f2fc7de3e2"
      },
      "execution_count": null,
      "outputs": [
        {
          "output_type": "execute_result",
          "data": {
            "text/plain": [
              "2"
            ]
          },
          "metadata": {},
          "execution_count": 65
        }
      ]
    },
    {
      "cell_type": "code",
      "source": [
        "l2.clear() # DEL tudo"
      ],
      "metadata": {
        "id": "hv7ViEWEfWUn"
      },
      "execution_count": null,
      "outputs": []
    },
    {
      "cell_type": "code",
      "source": [
        "l2"
      ],
      "metadata": {
        "colab": {
          "base_uri": "https://localhost:8080/"
        },
        "id": "M6dWA3PSfZU9",
        "outputId": "13c5c0a8-b3dc-4370-c3ba-7008288fba0c"
      },
      "execution_count": null,
      "outputs": [
        {
          "output_type": "execute_result",
          "data": {
            "text/plain": [
              "[]"
            ]
          },
          "metadata": {},
          "execution_count": 67
        }
      ]
    },
    {
      "cell_type": "code",
      "source": [
        "l1.index(40) "
      ],
      "metadata": {
        "colab": {
          "base_uri": "https://localhost:8080/"
        },
        "id": "qWIGZAKffZ96",
        "outputId": "473cf1ec-7963-4364-ec4d-f8ac67fe2842"
      },
      "execution_count": null,
      "outputs": [
        {
          "output_type": "execute_result",
          "data": {
            "text/plain": [
              "11"
            ]
          },
          "metadata": {},
          "execution_count": 68
        }
      ]
    },
    {
      "cell_type": "code",
      "source": [
        "l1.count(10)"
      ],
      "metadata": {
        "colab": {
          "base_uri": "https://localhost:8080/"
        },
        "id": "-Jx9gHrFfx28",
        "outputId": "2312e72c-9f64-4402-ca83-e2e7d12ff785"
      },
      "execution_count": null,
      "outputs": [
        {
          "output_type": "execute_result",
          "data": {
            "text/plain": [
              "5"
            ]
          },
          "metadata": {},
          "execution_count": 69
        }
      ]
    },
    {
      "cell_type": "markdown",
      "source": [
        "# Tuplas"
      ],
      "metadata": {
        "id": "AOg2X8Vyf8sS"
      }
    },
    {
      "cell_type": "code",
      "source": [
        "tupla = (0,1,2,3,4)\n",
        "tupla.append(4) # Imutavel "
      ],
      "metadata": {
        "colab": {
          "base_uri": "https://localhost:8080/",
          "height": 184
        },
        "id": "GB3W80k_gfK_",
        "outputId": "cd4001ba-d1d3-460b-f56d-daef4bfca734"
      },
      "execution_count": null,
      "outputs": [
        {
          "output_type": "error",
          "ename": "AttributeError",
          "evalue": "ignored",
          "traceback": [
            "\u001b[0;31m---------------------------------------------------------------------------\u001b[0m",
            "\u001b[0;31mAttributeError\u001b[0m                            Traceback (most recent call last)",
            "\u001b[0;32m<ipython-input-71-4d88b14db7c1>\u001b[0m in \u001b[0;36m<module>\u001b[0;34m\u001b[0m\n\u001b[1;32m      1\u001b[0m \u001b[0mtupla\u001b[0m \u001b[0;34m=\u001b[0m \u001b[0;34m(\u001b[0m\u001b[0;36m0\u001b[0m\u001b[0;34m,\u001b[0m\u001b[0;36m1\u001b[0m\u001b[0;34m,\u001b[0m\u001b[0;36m2\u001b[0m\u001b[0;34m,\u001b[0m\u001b[0;36m3\u001b[0m\u001b[0;34m,\u001b[0m\u001b[0;36m4\u001b[0m\u001b[0;34m)\u001b[0m\u001b[0;34m\u001b[0m\u001b[0;34m\u001b[0m\u001b[0m\n\u001b[0;32m----> 2\u001b[0;31m \u001b[0mtupla\u001b[0m\u001b[0;34m.\u001b[0m\u001b[0mappend\u001b[0m\u001b[0;34m(\u001b[0m\u001b[0;36m4\u001b[0m\u001b[0;34m)\u001b[0m \u001b[0;31m# Imutavel\u001b[0m\u001b[0;34m\u001b[0m\u001b[0;34m\u001b[0m\u001b[0m\n\u001b[0m",
            "\u001b[0;31mAttributeError\u001b[0m: 'tuple' object has no attribute 'append'"
          ]
        }
      ]
    },
    {
      "cell_type": "code",
      "source": [
        "tp2 = (3,3,25,None, 'Brazil')\n",
        "tp2"
      ],
      "metadata": {
        "colab": {
          "base_uri": "https://localhost:8080/"
        },
        "id": "QNJyMjlOgkyX",
        "outputId": "5428504d-b426-4142-b700-81cb29fb3dea"
      },
      "execution_count": null,
      "outputs": [
        {
          "output_type": "execute_result",
          "data": {
            "text/plain": [
              "(3, 3, 25, None, 'Brazil')"
            ]
          },
          "metadata": {},
          "execution_count": 72
        }
      ]
    },
    {
      "cell_type": "code",
      "source": [
        "tp3 = ()\n",
        "tp3"
      ],
      "metadata": {
        "colab": {
          "base_uri": "https://localhost:8080/"
        },
        "id": "vlxNlCyTgu37",
        "outputId": "065df807-2ea4-40d8-c9a2-71b137a4c4d1"
      },
      "execution_count": null,
      "outputs": [
        {
          "output_type": "execute_result",
          "data": {
            "text/plain": [
              "()"
            ]
          },
          "metadata": {},
          "execution_count": 76
        }
      ]
    },
    {
      "cell_type": "code",
      "source": [
        "t1  = (30,10,20)\n",
        "t2 = (2,'a',5.44, True)\n",
        "t1 + t2, t1 in t2, t1 * 2"
      ],
      "metadata": {
        "colab": {
          "base_uri": "https://localhost:8080/"
        },
        "id": "0PJuoEpyhDdJ",
        "outputId": "f2a1cdcf-d200-4a48-bc4a-61b30781788a"
      },
      "execution_count": null,
      "outputs": [
        {
          "output_type": "execute_result",
          "data": {
            "text/plain": [
              "((30, 10, 20, 2, 'a', 5.44, True), False, (30, 10, 20, 30, 10, 20))"
            ]
          },
          "metadata": {},
          "execution_count": 81
        }
      ]
    },
    {
      "cell_type": "code",
      "source": [
        "len(t1), min(t1), max(t1), sum(t1)"
      ],
      "metadata": {
        "colab": {
          "base_uri": "https://localhost:8080/"
        },
        "id": "nZIt3M19hLsQ",
        "outputId": "fb8a30b4-6040-4c75-edea-abd0d4b7dd60"
      },
      "execution_count": null,
      "outputs": [
        {
          "output_type": "execute_result",
          "data": {
            "text/plain": [
              "(3, 10, 30, 60)"
            ]
          },
          "metadata": {},
          "execution_count": 83
        }
      ]
    },
    {
      "cell_type": "markdown",
      "source": [
        "# Conjunto"
      ],
      "metadata": {
        "id": "nJsL5Ep4iuOA"
      }
    },
    {
      "cell_type": "code",
      "source": [
        "{item1, item2, item3, item4}"
      ],
      "metadata": {
        "id": "xtqBAAKziwB_"
      },
      "execution_count": null,
      "outputs": []
    },
    {
      "cell_type": "code",
      "source": [
        "cl = {3,0,1,4,3}\n",
        "cl"
      ],
      "metadata": {
        "colab": {
          "base_uri": "https://localhost:8080/"
        },
        "id": "vXx9NFD1kr0o",
        "outputId": "548f1031-d7cc-4aeb-e0d0-5689c676beee"
      },
      "execution_count": null,
      "outputs": [
        {
          "output_type": "execute_result",
          "data": {
            "text/plain": [
              "{0, 1, 3, 4}"
            ]
          },
          "metadata": {},
          "execution_count": 86
        }
      ]
    },
    {
      "cell_type": "code",
      "source": [
        "cl2 = {2,1,4,3,0}\n",
        "cl2"
      ],
      "metadata": {
        "colab": {
          "base_uri": "https://localhost:8080/"
        },
        "id": "h7bkKlTZkzcX",
        "outputId": "8bc9ed59-364a-43a2-f4e5-30e110788e2d"
      },
      "execution_count": null,
      "outputs": [
        {
          "output_type": "execute_result",
          "data": {
            "text/plain": [
              "{0, 1, 2, 3, 4}"
            ]
          },
          "metadata": {},
          "execution_count": 87
        }
      ]
    },
    {
      "cell_type": "code",
      "source": [
        "cl == cl2"
      ],
      "metadata": {
        "colab": {
          "base_uri": "https://localhost:8080/"
        },
        "id": "RpyQ_LVhk2li",
        "outputId": "a072fa10-4e79-4025-d986-a7f91e565bc7"
      },
      "execution_count": null,
      "outputs": [
        {
          "output_type": "execute_result",
          "data": {
            "text/plain": [
              "False"
            ]
          },
          "metadata": {},
          "execution_count": 88
        }
      ]
    },
    {
      "cell_type": "code",
      "source": [
        "c2 = {1,4,3,0}\n",
        "c2 == cl"
      ],
      "metadata": {
        "colab": {
          "base_uri": "https://localhost:8080/"
        },
        "id": "ngBNlpcilHuF",
        "outputId": "1d719223-f5d5-47c6-bc80-2b75e4076b4c"
      },
      "execution_count": null,
      "outputs": [
        {
          "output_type": "execute_result",
          "data": {
            "text/plain": [
              "True"
            ]
          },
          "metadata": {},
          "execution_count": 92
        }
      ]
    },
    {
      "cell_type": "code",
      "source": [
        "c3 = {'a',5.44, True, None, None, True,'a'}\n",
        "c3"
      ],
      "metadata": {
        "colab": {
          "base_uri": "https://localhost:8080/"
        },
        "id": "hQ2r_eOilXn3",
        "outputId": "696f3ca3-d3a8-46f6-fa2e-33ce6a557058"
      },
      "execution_count": null,
      "outputs": [
        {
          "output_type": "execute_result",
          "data": {
            "text/plain": [
              "{5.44, None, True, 'a'}"
            ]
          },
          "metadata": {},
          "execution_count": 95
        }
      ]
    },
    {
      "cell_type": "code",
      "source": [
        "a = {1,2,3,4,5}\n",
        "b = {4,5,6,7,8}\n",
        "print('a', a)\n",
        "print('b', b)"
      ],
      "metadata": {
        "colab": {
          "base_uri": "https://localhost:8080/"
        },
        "id": "gzHWXKNTlfaF",
        "outputId": "226399b6-d499-48e2-bd6e-ce1e7e1dddc8"
      },
      "execution_count": null,
      "outputs": [
        {
          "output_type": "stream",
          "name": "stdout",
          "text": [
            "a {1, 2, 3, 4, 5}\n",
            "b {4, 5, 6, 7, 8}\n"
          ]
        }
      ]
    },
    {
      "cell_type": "code",
      "source": [
        "print('a.union(b) =>', a.union(b))"
      ],
      "metadata": {
        "colab": {
          "base_uri": "https://localhost:8080/"
        },
        "id": "ofl-gYi5mHkR",
        "outputId": "2bd7d8f2-1f79-44fa-f8d8-7eca63d4b06c"
      },
      "execution_count": null,
      "outputs": [
        {
          "output_type": "stream",
          "name": "stdout",
          "text": [
            "a.union(b) => {1, 2, 3, 4, 5, 6, 7, 8}\n"
          ]
        }
      ]
    },
    {
      "cell_type": "code",
      "source": [
        "print('a & b =>', a & b)\n",
        "print('a.intersection(b) =>', a.intersection(b))\n"
      ],
      "metadata": {
        "colab": {
          "base_uri": "https://localhost:8080/"
        },
        "id": "PqX3ebommOJy",
        "outputId": "666d2f29-9791-4459-9fe2-2c5e693490d0"
      },
      "execution_count": null,
      "outputs": [
        {
          "output_type": "stream",
          "name": "stdout",
          "text": [
            "a & b => {4, 5}\n",
            "a.intersection(b) => {4, 5}\n"
          ]
        }
      ]
    },
    {
      "cell_type": "code",
      "source": [
        "print('a - b =>', a - b)\n",
        "print('a.difference(b) =>', a.difference(b))\n",
        "print('b - a =>', b - a)\n",
        "print('b.difference(a) =>', b.difference(a))\n"
      ],
      "metadata": {
        "colab": {
          "base_uri": "https://localhost:8080/"
        },
        "id": "PzHtz4UAm1H2",
        "outputId": "dc645ef4-b748-4be7-ec53-ffb4a6045e9c"
      },
      "execution_count": null,
      "outputs": [
        {
          "output_type": "stream",
          "name": "stdout",
          "text": [
            "a - b => {1, 2, 3}\n",
            "a.difference(b) => {1, 2, 3}\n",
            "b - a => {8, 6, 7}\n",
            "b.difference(a) => {8, 6, 7}\n"
          ]
        }
      ]
    },
    {
      "cell_type": "code",
      "source": [
        "len(a), max(a), min(a), sum(a)\n",
        "a.add(6)\n",
        "a\n",
        "a.update([1,0])\n",
        "a"
      ],
      "metadata": {
        "colab": {
          "base_uri": "https://localhost:8080/"
        },
        "id": "UH2w4QI4n1L8",
        "outputId": "2b56142f-e160-490c-e5be-ec6e79aed26b"
      },
      "execution_count": null,
      "outputs": [
        {
          "output_type": "execute_result",
          "data": {
            "text/plain": [
              "{0, 1, 2, 3, 4, 5, 6}"
            ]
          },
          "metadata": {},
          "execution_count": 108
        }
      ]
    },
    {
      "cell_type": "code",
      "source": [
        "c1 = {1,2,3,4,5}\n",
        "c2 = {4,5}\n",
        "c3 = {91,92,93}"
      ],
      "metadata": {
        "id": "xx5vE9rQnk6W"
      },
      "execution_count": null,
      "outputs": []
    },
    {
      "cell_type": "code",
      "source": [],
      "metadata": {
        "id": "iSZ5zn4HqOze"
      },
      "execution_count": null,
      "outputs": []
    },
    {
      "cell_type": "code",
      "source": [
        "c1.discard(5)\n",
        "c1 \n"
      ],
      "metadata": {
        "colab": {
          "base_uri": "https://localhost:8080/"
        },
        "id": "ie_5BZDeoQsw",
        "outputId": "670c0e53-4aab-4257-9591-c0ae3032ae88"
      },
      "execution_count": null,
      "outputs": [
        {
          "output_type": "execute_result",
          "data": {
            "text/plain": [
              "{1, 2, 3, 4}"
            ]
          },
          "metadata": {},
          "execution_count": 111
        }
      ]
    },
    {
      "cell_type": "code",
      "source": [
        "c1.add(5)\n",
        "c1"
      ],
      "metadata": {
        "colab": {
          "base_uri": "https://localhost:8080/"
        },
        "id": "uHqNrFMzoTlU",
        "outputId": "0e11326c-1a45-428a-bb08-33f64cf8465e"
      },
      "execution_count": null,
      "outputs": [
        {
          "output_type": "execute_result",
          "data": {
            "text/plain": [
              "{1, 2, 3, 4, 5}"
            ]
          },
          "metadata": {},
          "execution_count": 112
        }
      ]
    },
    {
      "cell_type": "code",
      "source": [
        "c1.remove(3)\n",
        "c1"
      ],
      "metadata": {
        "colab": {
          "base_uri": "https://localhost:8080/"
        },
        "id": "XeRurabeoXE4",
        "outputId": "634ce0c7-1b01-492e-8d86-7b7e65ab6a14"
      },
      "execution_count": null,
      "outputs": [
        {
          "output_type": "execute_result",
          "data": {
            "text/plain": [
              "{1, 2, 4}"
            ]
          },
          "metadata": {},
          "execution_count": 115
        }
      ]
    },
    {
      "cell_type": "code",
      "source": [
        "ing = {'Gabriel','Caio','Maria','Ana','Juliano','Flavia','Rubens','Bruna'}\n",
        "esp = {'Caio','Arthur','Beatriz','Carolina','Maria','Juliano','Bruna','Rui'}\n",
        "fra = {'Pedro','Bruna','Tiago','Maria','Flavia','Rui','Carolina'}\n"
      ],
      "metadata": {
        "id": "18v2nHWjoZDf"
      },
      "execution_count": null,
      "outputs": []
    },
    {
      "cell_type": "code",
      "source": [
        "ing & esp & fra"
      ],
      "metadata": {
        "colab": {
          "base_uri": "https://localhost:8080/"
        },
        "id": "xPK4gTvdqrnp",
        "outputId": "f57f3ed6-6c80-4e25-ae67-1773c7d41cb0"
      },
      "execution_count": null,
      "outputs": [
        {
          "output_type": "execute_result",
          "data": {
            "text/plain": [
              "{'Bruna', 'Maria'}"
            ]
          },
          "metadata": {},
          "execution_count": 121
        }
      ]
    },
    {
      "cell_type": "code",
      "source": [
        "todos = ing | esp | fra\n",
        "todos "
      ],
      "metadata": {
        "colab": {
          "base_uri": "https://localhost:8080/"
        },
        "id": "tZhmtRoVqxSf",
        "outputId": "1ce4c5fc-acfd-42b9-a89e-b9a65968d0a4"
      },
      "execution_count": 127,
      "outputs": [
        {
          "output_type": "execute_result",
          "data": {
            "text/plain": [
              "{'Ana',\n",
              " 'Arthur',\n",
              " 'Beatriz',\n",
              " 'Bruna',\n",
              " 'Caio',\n",
              " 'Carolina',\n",
              " 'Flavia',\n",
              " 'Gabriel',\n",
              " 'Juliano',\n",
              " 'Maria',\n",
              " 'Pedro',\n",
              " 'Rubens',\n",
              " 'Rui',\n",
              " 'Tiago'}"
            ]
          },
          "metadata": {},
          "execution_count": 127
        }
      ]
    },
    {
      "cell_type": "code",
      "source": [
        "aluno_desconto = (ing & esp) | (ing & fra) | (esp & fra)\n",
        "aluno_desconto"
      ],
      "metadata": {
        "id": "8URvrsiMrEg3",
        "colab": {
          "base_uri": "https://localhost:8080/"
        },
        "outputId": "046f4b6a-7870-4ae6-e02b-7972840924f6"
      },
      "execution_count": 128,
      "outputs": [
        {
          "output_type": "execute_result",
          "data": {
            "text/plain": [
              "{'Bruna', 'Caio', 'Carolina', 'Flavia', 'Juliano', 'Maria', 'Rui'}"
            ]
          },
          "metadata": {},
          "execution_count": 128
        }
      ]
    },
    {
      "cell_type": "markdown",
      "source": [
        "# Dicionarios "
      ],
      "metadata": {
        "id": "lRemH6WqwnFR"
      }
    },
    {
      "cell_type": "code",
      "source": [
        "'''{chave1:valor1, chave2:valor2, chave3:valor3}'''"
      ],
      "metadata": {
        "id": "_yjhStJxwqUE"
      },
      "execution_count": null,
      "outputs": []
    },
    {
      "cell_type": "code",
      "source": [
        "d1 = {'nome':'Antonio', 'idade':36,'sexo':'masculino'}\n",
        "d1"
      ],
      "metadata": {
        "colab": {
          "base_uri": "https://localhost:8080/"
        },
        "id": "k9h4Fj83w9_3",
        "outputId": "d8a5a8ee-e18b-4071-b558-7ca96f306bb2"
      },
      "execution_count": 129,
      "outputs": [
        {
          "output_type": "execute_result",
          "data": {
            "text/plain": [
              "{'nome': 'Antonio', 'idade': 36, 'sexo': 'masculino'}"
            ]
          },
          "metadata": {},
          "execution_count": 129
        }
      ]
    },
    {
      "cell_type": "code",
      "source": [
        "d1['nome'] = 'Lucas'\n",
        "d1['nome']"
      ],
      "metadata": {
        "colab": {
          "base_uri": "https://localhost:8080/",
          "height": 36
        },
        "id": "aGCmnrUqxFzf",
        "outputId": "fe9f3579-be09-40b4-b11a-05110a662da9"
      },
      "execution_count": 132,
      "outputs": [
        {
          "output_type": "execute_result",
          "data": {
            "text/plain": [
              "'Lucas'"
            ],
            "application/vnd.google.colaboratory.intrinsic+json": {
              "type": "string"
            }
          },
          "metadata": {},
          "execution_count": 132
        }
      ]
    },
    {
      "cell_type": "code",
      "source": [
        "d2 = {2:'dois',1:'um',4:'quatro',3:'tres',0:'zero'}\n"
      ],
      "metadata": {
        "id": "a0Sn89f6xG1L"
      },
      "execution_count": 138,
      "outputs": []
    },
    {
      "cell_type": "code",
      "source": [
        "max(d2), min(d2), sum(d2)"
      ],
      "metadata": {
        "colab": {
          "base_uri": "https://localhost:8080/"
        },
        "id": "wOWonNtQxv1L",
        "outputId": "66c965e7-2e9c-45fb-c480-13ae5303b3f1"
      },
      "execution_count": 140,
      "outputs": [
        {
          "output_type": "execute_result",
          "data": {
            "text/plain": [
              "(4, 0, 10)"
            ]
          },
          "metadata": {},
          "execution_count": 140
        }
      ]
    },
    {
      "cell_type": "code",
      "source": [
        "2 in d2"
      ],
      "metadata": {
        "colab": {
          "base_uri": "https://localhost:8080/"
        },
        "id": "MoQSWnDEyZBo",
        "outputId": "a2018a43-cf8a-44bb-d41f-edacc4c3eda0"
      },
      "execution_count": 142,
      "outputs": [
        {
          "output_type": "execute_result",
          "data": {
            "text/plain": [
              "True"
            ]
          },
          "metadata": {},
          "execution_count": 142
        }
      ]
    },
    {
      "cell_type": "code",
      "source": [
        "#d2.pop(2)\n",
        "d2"
      ],
      "metadata": {
        "colab": {
          "base_uri": "https://localhost:8080/"
        },
        "id": "kU3Lm54OyurP",
        "outputId": "49c5c0e3-946d-42e8-cb01-7616dd339418"
      },
      "execution_count": 145,
      "outputs": [
        {
          "output_type": "execute_result",
          "data": {
            "text/plain": [
              "{1: 'um', 4: 'quatro', 3: 'tres', 0: 'zero'}"
            ]
          },
          "metadata": {},
          "execution_count": 145
        }
      ]
    },
    {
      "cell_type": "code",
      "source": [],
      "metadata": {
        "id": "WaHuOz5ky62f"
      },
      "execution_count": null,
      "outputs": []
    }
  ]
}