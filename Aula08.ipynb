{
  "nbformat": 4,
  "nbformat_minor": 0,
  "metadata": {
    "colab": {
      "provenance": [],
      "collapsed_sections": [],
      "authorship_tag": "ABX9TyOGArtjQhb7VxHvZFPZpsWS",
      "include_colab_link": true
    },
    "kernelspec": {
      "name": "python3",
      "display_name": "Python 3"
    },
    "language_info": {
      "name": "python"
    }
  },
  "cells": [
    {
      "cell_type": "markdown",
      "metadata": {
        "id": "view-in-github",
        "colab_type": "text"
      },
      "source": [
        "<a href=\"https://colab.research.google.com/github/lucas-vinij/desenvolvedor_python_igti/blob/main/Aula08.ipynb\" target=\"_parent\"><img src=\"https://colab.research.google.com/assets/colab-badge.svg\" alt=\"Open In Colab\"/></a>"
      ]
    },
    {
      "cell_type": "markdown",
      "source": [
        "# Manipulação de Arquivos"
      ],
      "metadata": {
        "id": "oJMHclyQSjIy"
      }
    },
    {
      "cell_type": "code",
      "execution_count": 2,
      "metadata": {
        "id": "7ydUxhFoSijN"
      },
      "outputs": [],
      "source": [
        "arquivo = open('arquimvo_somente_leitura.txt','r')\n",
        "arquivo.close()"
      ]
    },
    {
      "cell_type": "code",
      "source": [
        "arquivo = open('Valores.txt','w')\n",
        "arquivo.close()"
      ],
      "metadata": {
        "id": "rj9y8vD2Up20"
      },
      "execution_count": 6,
      "outputs": []
    },
    {
      "cell_type": "code",
      "source": [
        "arquivo = open('valores.txt','x')\n",
        "arquivo.close()"
      ],
      "metadata": {
        "colab": {
          "base_uri": "https://localhost:8080/",
          "height": 222
        },
        "id": "Ud1cbzVfVUIH",
        "outputId": "09774ae4-ff9b-439e-f789-ce4a4a6f848a"
      },
      "execution_count": 9,
      "outputs": [
        {
          "output_type": "error",
          "ename": "FileExistsError",
          "evalue": "ignored",
          "traceback": [
            "\u001b[0;31m---------------------------------------------------------------------------\u001b[0m",
            "\u001b[0;31mFileExistsError\u001b[0m                           Traceback (most recent call last)",
            "\u001b[0;32m<ipython-input-9-084fcbdfd291>\u001b[0m in \u001b[0;36m<module>\u001b[0;34m\u001b[0m\n\u001b[0;32m----> 1\u001b[0;31m \u001b[0marquivo\u001b[0m \u001b[0;34m=\u001b[0m \u001b[0mopen\u001b[0m\u001b[0;34m(\u001b[0m\u001b[0;34m'valores.txt'\u001b[0m\u001b[0;34m,\u001b[0m\u001b[0;34m'x'\u001b[0m\u001b[0;34m)\u001b[0m\u001b[0;34m\u001b[0m\u001b[0;34m\u001b[0m\u001b[0m\n\u001b[0m\u001b[1;32m      2\u001b[0m \u001b[0marquivo\u001b[0m\u001b[0;34m.\u001b[0m\u001b[0mclose\u001b[0m\u001b[0;34m(\u001b[0m\u001b[0;34m)\u001b[0m\u001b[0;34m\u001b[0m\u001b[0;34m\u001b[0m\u001b[0m\n",
            "\u001b[0;31mFileExistsError\u001b[0m: [Errno 17] File exists: 'valores.txt'"
          ]
        }
      ]
    },
    {
      "cell_type": "code",
      "source": [
        "arquivo = open('valores.txt','at')\n",
        "arquivo.close()"
      ],
      "metadata": {
        "id": "RWWu5YrkVm1F"
      },
      "execution_count": 10,
      "outputs": []
    },
    {
      "cell_type": "code",
      "source": [
        "cd = open('cidades.txt','r')\n",
        "linhas = cd.readlines()\n",
        "cd.close()\n",
        "print(linhas)"
      ],
      "metadata": {
        "colab": {
          "base_uri": "https://localhost:8080/"
        },
        "id": "lq-DpwyLWV8d",
        "outputId": "7390fbc0-793c-462e-8352-c71c7f424a72"
      },
      "execution_count": 12,
      "outputs": [
        {
          "output_type": "stream",
          "name": "stdout",
          "text": [
            "['SP; São Paulo; 1138839\\n', 'RJ; Rio de Janeiro; 41335135\\n', 'BA; Salvador; 31241234\\n', 'DF; Brasilia; 1332412\\n', 'CE; Fortaleza; 1231324\\n', 'MG; Belo Horizonte; 234423\\n', 'AM; Manaus; 234342\\n', 'PR; Curitiba; 134141\\n', 'PE; Recife; 123413\\n', 'RS; Porto Alegre; 234234\\n', 'PA; Belém; 13241234\\n', 'GO; Goania; 134434\\n', 'SP; Guarulhos; 964564\\n', 'SP; Campinas; 13454534\\n', 'MA; Sao Luiz;594554\\n']\n"
          ]
        }
      ]
    },
    {
      "cell_type": "code",
      "source": [
        "novas_linhas = []\n",
        "for linha in linhas:\n",
        "  novas_linhas.append(linha.rstrip())\n",
        "print(novas_linhas)"
      ],
      "metadata": {
        "colab": {
          "base_uri": "https://localhost:8080/"
        },
        "id": "gpQUe536XRmR",
        "outputId": "bebd20cc-fb3c-4812-83ed-60f87d387997"
      },
      "execution_count": 15,
      "outputs": [
        {
          "output_type": "stream",
          "name": "stdout",
          "text": [
            "['SP; São Paulo; 1138839', 'RJ; Rio de Janeiro; 41335135', 'BA; Salvador; 31241234', 'DF; Brasilia; 1332412', 'CE; Fortaleza; 1231324', 'MG; Belo Horizonte; 234423', 'AM; Manaus; 234342', 'PR; Curitiba; 134141', 'PE; Recife; 123413', 'RS; Porto Alegre; 234234', 'PA; Belém; 13241234', 'GO; Goania; 134434', 'SP; Guarulhos; 964564', 'SP; Campinas; 13454534', 'MA; Sao Luiz;594554']\n"
          ]
        }
      ]
    },
    {
      "cell_type": "code",
      "source": [
        "arquivo = open('cidades.txt','r')\n",
        "for linha in arquivo:\n",
        "  print(linha)\n",
        "arquivo.close()"
      ],
      "metadata": {
        "colab": {
          "base_uri": "https://localhost:8080/"
        },
        "id": "N5YSjL7ZZrsT",
        "outputId": "8f0040fe-d5f3-43d1-d6cc-3e5fc697cfc9"
      },
      "execution_count": 17,
      "outputs": [
        {
          "output_type": "stream",
          "name": "stdout",
          "text": [
            "SP; São Paulo; 1138839\n",
            "\n",
            "RJ; Rio de Janeiro; 41335135\n",
            "\n",
            "BA; Salvador; 31241234\n",
            "\n",
            "DF; Brasilia; 1332412\n",
            "\n",
            "CE; Fortaleza; 1231324\n",
            "\n",
            "MG; Belo Horizonte; 234423\n",
            "\n",
            "AM; Manaus; 234342\n",
            "\n",
            "PR; Curitiba; 134141\n",
            "\n",
            "PE; Recife; 123413\n",
            "\n",
            "RS; Porto Alegre; 234234\n",
            "\n",
            "PA; Belém; 13241234\n",
            "\n",
            "GO; Goania; 134434\n",
            "\n",
            "SP; Guarulhos; 964564\n",
            "\n",
            "SP; Campinas; 13454534\n",
            "\n",
            "MA; Sao Luiz;594554\n",
            "\n"
          ]
        }
      ]
    },
    {
      "cell_type": "code",
      "source": [
        "arquivo = open('cidades.txt','r')\n",
        "for linha in arquivo:\n",
        "  cidade = linha.split(' ')\n",
        "  print(cidade)\n",
        "arquivo.close()"
      ],
      "metadata": {
        "colab": {
          "base_uri": "https://localhost:8080/"
        },
        "id": "nz1mY6ibZy2x",
        "outputId": "5ada39ff-625f-433e-8cbb-541cd1e231f9"
      },
      "execution_count": 19,
      "outputs": [
        {
          "output_type": "stream",
          "name": "stdout",
          "text": [
            "['SP;', 'São', 'Paulo;', '1138839\\n']\n",
            "['RJ;', 'Rio', 'de', 'Janeiro;', '41335135\\n']\n",
            "['BA;', 'Salvador;', '31241234\\n']\n",
            "['DF;', 'Brasilia;', '1332412\\n']\n",
            "['CE;', 'Fortaleza;', '1231324\\n']\n",
            "['MG;', 'Belo', 'Horizonte;', '234423\\n']\n",
            "['AM;', 'Manaus;', '234342\\n']\n",
            "['PR;', 'Curitiba;', '134141\\n']\n",
            "['PE;', 'Recife;', '123413\\n']\n",
            "['RS;', 'Porto', 'Alegre;', '234234\\n']\n",
            "['PA;', 'Belém;', '13241234\\n']\n",
            "['GO;', 'Goania;', '134434\\n']\n",
            "['SP;', 'Guarulhos;', '964564\\n']\n",
            "['SP;', 'Campinas;', '13454534\\n']\n",
            "['MA;', 'Sao', 'Luiz;594554\\n']\n"
          ]
        }
      ]
    },
    {
      "cell_type": "code",
      "source": [
        "arquivo = open('cidades.txt','a')\n",
        "arquivo.write('RJ; São Gonçalo; 144345\\n')\n",
        "arquivo.close()"
      ],
      "metadata": {
        "id": "oPh5LR_qawkX"
      },
      "execution_count": 20,
      "outputs": []
    },
    {
      "cell_type": "code",
      "source": [
        "cd = open('cidades.txt','r')\n",
        "lista = cd.readlines()\n",
        "cd.close()\n",
        "print(lista)"
      ],
      "metadata": {
        "colab": {
          "base_uri": "https://localhost:8080/"
        },
        "id": "Z0x_8skbcmd7",
        "outputId": "87e57cb3-1626-4f99-b8f5-70f1abd130af"
      },
      "execution_count": 22,
      "outputs": [
        {
          "output_type": "stream",
          "name": "stdout",
          "text": [
            "['SP; São Paulo; 1138839\\n', 'RJ; Rio de Janeiro; 41335135\\n', 'BA; Salvador; 31241234\\n', 'DF; Brasilia; 1332412\\n', 'CE; Fortaleza; 1231324\\n', 'MG; Belo Horizonte; 234423\\n', 'AM; Manaus; 234342\\n', 'PR; Curitiba; 134141\\n', 'PE; Recife; 123413\\n', 'RS; Porto Alegre; 234234\\n', 'PA; Belém; 13241234\\n', 'GO; Goania; 134434\\n', 'SP; Guarulhos; 964564\\n', 'SP; Campinas; 13454534\\n', 'MA; Sao Luiz;594554\\n', 'RJ; São Gonçalo; 144345\\n']\n"
          ]
        }
      ]
    },
    {
      "cell_type": "code",
      "source": [],
      "metadata": {
        "id": "djkEsWqUcsVV"
      },
      "execution_count": null,
      "outputs": []
    }
  ]
}