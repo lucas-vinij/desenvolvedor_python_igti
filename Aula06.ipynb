{
  "nbformat": 4,
  "nbformat_minor": 0,
  "metadata": {
    "colab": {
      "provenance": [],
      "collapsed_sections": [],
      "authorship_tag": "ABX9TyO00Dln3QsFF7c/6Wsat+xk",
      "include_colab_link": true
    },
    "kernelspec": {
      "name": "python3",
      "display_name": "Python 3"
    },
    "language_info": {
      "name": "python"
    }
  },
  "cells": [
    {
      "cell_type": "markdown",
      "metadata": {
        "id": "view-in-github",
        "colab_type": "text"
      },
      "source": [
        "<a href=\"https://colab.research.google.com/github/lucas-vinij/desenvolvedor_python_igti/blob/main/Aula06.ipynb\" target=\"_parent\"><img src=\"https://colab.research.google.com/assets/colab-badge.svg\" alt=\"Open In Colab\"/></a>"
      ]
    },
    {
      "cell_type": "markdown",
      "source": [
        "# Funções"
      ],
      "metadata": {
        "id": "YaBe-dwUCHHS"
      }
    },
    {
      "cell_type": "code",
      "source": [
        "def soma(a,b):\n",
        "  return a + b\n",
        "\n",
        "soma(1,2)"
      ],
      "metadata": {
        "colab": {
          "base_uri": "https://localhost:8080/"
        },
        "id": "R-03TegXCO9d",
        "outputId": "7ce26944-56ba-4bdb-b2f2-cfffab96e069"
      },
      "execution_count": 2,
      "outputs": [
        {
          "output_type": "execute_result",
          "data": {
            "text/plain": [
              "3"
            ]
          },
          "metadata": {},
          "execution_count": 2
        }
      ]
    },
    {
      "cell_type": "code",
      "source": [
        "lista = list(range(1,30))\n",
        "def soma_lista(lista):\n",
        "  return sum(lista)\n",
        "\n",
        "soma_lista(lista)\n",
        "\n"
      ],
      "metadata": {
        "colab": {
          "base_uri": "https://localhost:8080/"
        },
        "id": "_O6wdkq1Ec5f",
        "outputId": "3eb759d2-302c-4ce4-9273-d496c7a786c1"
      },
      "execution_count": 3,
      "outputs": [
        {
          "output_type": "execute_result",
          "data": {
            "text/plain": [
              "435"
            ]
          },
          "metadata": {},
          "execution_count": 3
        }
      ]
    },
    {
      "cell_type": "code",
      "source": [
        "def multiplica_lista(lista):\n",
        "  resultado = 1\n",
        "  for item in lista:\n",
        "    resultado = resultado * item\n",
        "  return resultado\n",
        "\n",
        "x = multiplica_lista(lista)"
      ],
      "metadata": {
        "id": "zXYPow1YEnHB"
      },
      "execution_count": 18,
      "outputs": []
    },
    {
      "cell_type": "code",
      "source": [
        "def boas_vindas(nome):\n",
        "  print(f'Olá {nome}. Seja bem-vindo (a)!')\n",
        "\n",
        "boas_vindas('lucas')"
      ],
      "metadata": {
        "colab": {
          "base_uri": "https://localhost:8080/"
        },
        "id": "DnqAW6KXEu7z",
        "outputId": "d691d1b6-64f0-437c-f2d4-2a2934a51e4f"
      },
      "execution_count": 20,
      "outputs": [
        {
          "output_type": "stream",
          "name": "stdout",
          "text": [
            "Olá lucas. Seja bem-vindo (a)!\n"
          ]
        }
      ]
    },
    {
      "cell_type": "code",
      "source": [
        "def area_quadrado(lado):\n",
        "  return lado*lado\n",
        "\n",
        "def area_triangulo(base, altura):\n",
        "  return (base * altura)/2\n",
        "  "
      ],
      "metadata": {
        "id": "7gAqqCEdGxsL"
      },
      "execution_count": null,
      "outputs": []
    },
    {
      "cell_type": "code",
      "source": [
        "def area_triangulo(base, altura):\n",
        "  return (base * altura)/2\n",
        "\n",
        "area_triangulo(10,5)"
      ],
      "metadata": {
        "colab": {
          "base_uri": "https://localhost:8080/"
        },
        "id": "ch0mMoYCH59D",
        "outputId": "3cd87eb5-f514-42d1-d351-46d2745e6284"
      },
      "execution_count": 21,
      "outputs": [
        {
          "output_type": "execute_result",
          "data": {
            "text/plain": [
              "25.0"
            ]
          },
          "metadata": {},
          "execution_count": 21
        }
      ]
    },
    {
      "cell_type": "code",
      "source": [
        "def exibe_pessoa(nome, idade=30):\n",
        "  print(f'Meu nome é {nome}, tenho {idade} anos.')\n",
        "\n",
        "exibe_pessoa('Lucas',22)"
      ],
      "metadata": {
        "colab": {
          "base_uri": "https://localhost:8080/"
        },
        "id": "mTrGu91rHeHb",
        "outputId": "d3ddb8ac-36a5-4be7-c669-cbb86ab3f58b"
      },
      "execution_count": 22,
      "outputs": [
        {
          "output_type": "stream",
          "name": "stdout",
          "text": [
            "Meu nome é Lucas, tenho 22 anos.\n"
          ]
        }
      ]
    },
    {
      "cell_type": "code",
      "source": [
        "x = 10\n",
        "y = 4\n",
        "def teste(a,b):\n",
        "  return a + b\n",
        "\n",
        "teste(a=x, b=y)\n"
      ],
      "metadata": {
        "colab": {
          "base_uri": "https://localhost:8080/"
        },
        "id": "lTibwBxBHBil",
        "outputId": "c40c8aa1-63db-4f55-a8a7-81ba8409a3dd"
      },
      "execution_count": 24,
      "outputs": [
        {
          "output_type": "execute_result",
          "data": {
            "text/plain": [
              "14"
            ]
          },
          "metadata": {},
          "execution_count": 24
        }
      ]
    },
    {
      "cell_type": "code",
      "source": [],
      "metadata": {
        "id": "vRijWtCHK5W-"
      },
      "execution_count": null,
      "outputs": []
    }
  ]
}