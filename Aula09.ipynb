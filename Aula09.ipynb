{
  "nbformat": 4,
  "nbformat_minor": 0,
  "metadata": {
    "colab": {
      "provenance": [],
      "collapsed_sections": [],
      "authorship_tag": "ABX9TyM169SS7xH4fWoDhdeV682I",
      "include_colab_link": true
    },
    "kernelspec": {
      "name": "python3",
      "display_name": "Python 3"
    },
    "language_info": {
      "name": "python"
    }
  },
  "cells": [
    {
      "cell_type": "markdown",
      "metadata": {
        "id": "view-in-github",
        "colab_type": "text"
      },
      "source": [
        "<a href=\"https://colab.research.google.com/github/lucas-vinij/desenvolvedor_python_igti/blob/main/Aula09.ipynb\" target=\"_parent\"><img src=\"https://colab.research.google.com/assets/colab-badge.svg\" alt=\"Open In Colab\"/></a>"
      ]
    },
    {
      "cell_type": "code",
      "execution_count": null,
      "metadata": {
        "colab": {
          "base_uri": "https://localhost:8080/"
        },
        "id": "clwL6yb4pI9t",
        "outputId": "8c8cc76f-602b-407d-e9dc-6966c401932f"
      },
      "outputs": [
        {
          "output_type": "execute_result",
          "data": {
            "text/plain": [
              "[1, 2, 3, 4, 5, 6, 7, 8, 9]"
            ]
          },
          "metadata": {},
          "execution_count": 2
        }
      ],
      "source": [
        "lista = [i for i in range(1,10)]\n",
        "lista"
      ]
    },
    {
      "cell_type": "code",
      "source": [
        "lista01 = [i**2 for i in range(1,11)]\n",
        "lista01"
      ],
      "metadata": {
        "colab": {
          "base_uri": "https://localhost:8080/"
        },
        "id": "9MmcvMQ2pg3w",
        "outputId": "32c1255d-173f-4da0-9af0-6458c1a34ed7"
      },
      "execution_count": null,
      "outputs": [
        {
          "output_type": "execute_result",
          "data": {
            "text/plain": [
              "[1, 4, 9, 16, 25, 36, 49, 64, 81, 100]"
            ]
          },
          "metadata": {},
          "execution_count": 5
        }
      ]
    },
    {
      "cell_type": "code",
      "source": [
        "[n * 10 for n in range(1,16)]"
      ],
      "metadata": {
        "colab": {
          "base_uri": "https://localhost:8080/"
        },
        "id": "1ucjzfS-pws9",
        "outputId": "eb43086a-2c6b-4d1b-9c77-77a4d1de685f"
      },
      "execution_count": null,
      "outputs": [
        {
          "output_type": "execute_result",
          "data": {
            "text/plain": [
              "[10, 20, 30, 40, 50, 60, 70, 80, 90, 100, 110, 120, 130, 140, 150]"
            ]
          },
          "metadata": {},
          "execution_count": 6
        }
      ]
    },
    {
      "cell_type": "code",
      "source": [
        "[x.upper() for x in 'antonio']"
      ],
      "metadata": {
        "colab": {
          "base_uri": "https://localhost:8080/"
        },
        "id": "3WCmeeblqMBa",
        "outputId": "99579301-36f8-45bc-e681-a775e5627b96"
      },
      "execution_count": null,
      "outputs": [
        {
          "output_type": "execute_result",
          "data": {
            "text/plain": [
              "['A', 'N', 'T', 'O', 'N', 'I', 'O']"
            ]
          },
          "metadata": {},
          "execution_count": 12
        }
      ]
    },
    {
      "cell_type": "code",
      "source": [
        "[(n % 2 == 0) for n in range(0,10)]"
      ],
      "metadata": {
        "colab": {
          "base_uri": "https://localhost:8080/"
        },
        "id": "_8m2ipGsqxD_",
        "outputId": "10dc8042-b26d-4da6-be4b-a7585d08eb0b"
      },
      "execution_count": null,
      "outputs": [
        {
          "output_type": "execute_result",
          "data": {
            "text/plain": [
              "[True, False, True, False, True, False, True, False, True, False]"
            ]
          },
          "metadata": {},
          "execution_count": 15
        }
      ]
    },
    {
      "cell_type": "code",
      "source": [
        "potencias = [item ** 2 for item in range(1,11) if item % 2 != 0]\n",
        "potencias"
      ],
      "metadata": {
        "colab": {
          "base_uri": "https://localhost:8080/"
        },
        "id": "ibi6PSqEq3-C",
        "outputId": "82436ce2-32a7-4711-e005-125e2faa72b9"
      },
      "execution_count": null,
      "outputs": [
        {
          "output_type": "execute_result",
          "data": {
            "text/plain": [
              "[1, 9, 25, 49, 81]"
            ]
          },
          "metadata": {},
          "execution_count": 23
        }
      ]
    },
    {
      "cell_type": "markdown",
      "source": [
        "# Dicionarios"
      ],
      "metadata": {
        "id": "XuaCj1Cxrjm1"
      }
    },
    {
      "cell_type": "code",
      "source": [
        "dict_todos = {item ** 2: item for item in range(1,11)}\n",
        "dict_todos"
      ],
      "metadata": {
        "colab": {
          "base_uri": "https://localhost:8080/"
        },
        "id": "yNxdE8eRrlCE",
        "outputId": "5452e660-4f15-4bd7-95db-831ba17ffdb4"
      },
      "execution_count": null,
      "outputs": [
        {
          "output_type": "execute_result",
          "data": {
            "text/plain": [
              "{1: 1, 4: 2, 9: 3, 16: 4, 25: 5, 36: 6, 49: 7, 64: 8, 81: 9, 100: 10}"
            ]
          },
          "metadata": {},
          "execution_count": 20
        }
      ]
    },
    {
      "cell_type": "code",
      "source": [
        "dict_impares = {item: item **2 for item in range(1,11) if item % 2 != 0}\n",
        "dict_impares"
      ],
      "metadata": {
        "colab": {
          "base_uri": "https://localhost:8080/"
        },
        "id": "sOnj8p_asjWG",
        "outputId": "f5bc2a11-bc3d-4656-f2b6-8ae1913437aa"
      },
      "execution_count": null,
      "outputs": [
        {
          "output_type": "execute_result",
          "data": {
            "text/plain": [
              "{1: 1, 3: 9, 5: 25, 7: 49, 9: 81}"
            ]
          },
          "metadata": {},
          "execution_count": 24
        }
      ]
    },
    {
      "cell_type": "markdown",
      "source": [
        "# Lambdas"
      ],
      "metadata": {
        "id": "5QFMRW03th9q"
      }
    },
    {
      "cell_type": "code",
      "source": [
        "x = lambda x,y : x+y\n",
        "x(32,32)"
      ],
      "metadata": {
        "colab": {
          "base_uri": "https://localhost:8080/"
        },
        "id": "y4VV62sltkpL",
        "outputId": "613687ba-bf32-4618-bebf-2b4bb1483a6e"
      },
      "execution_count": null,
      "outputs": [
        {
          "output_type": "execute_result",
          "data": {
            "text/plain": [
              "64"
            ]
          },
          "metadata": {},
          "execution_count": 26
        }
      ]
    },
    {
      "cell_type": "code",
      "source": [
        "quadrado = lambda lado: lado * lado\n",
        "quadrado(5)"
      ],
      "metadata": {
        "colab": {
          "base_uri": "https://localhost:8080/"
        },
        "id": "hxESw9sxtrxv",
        "outputId": "fb37a4c8-90d7-43b5-afe7-00ed3681e6e6"
      },
      "execution_count": null,
      "outputs": [
        {
          "output_type": "execute_result",
          "data": {
            "text/plain": [
              "25"
            ]
          },
          "metadata": {},
          "execution_count": 30
        }
      ]
    },
    {
      "cell_type": "code",
      "source": [
        "triangulo = lambda base,altura: (base * altura)/2\n",
        "triangulo(4,4)\n",
        "type(triangulo)"
      ],
      "metadata": {
        "colab": {
          "base_uri": "https://localhost:8080/"
        },
        "id": "2NJeTfTjt89A",
        "outputId": "e84f72ca-71cc-4a9b-d804-6cbd3d1d2684"
      },
      "execution_count": null,
      "outputs": [
        {
          "output_type": "execute_result",
          "data": {
            "text/plain": [
              "function"
            ]
          },
          "metadata": {},
          "execution_count": 32
        }
      ]
    },
    {
      "cell_type": "markdown",
      "source": [
        "# Atribuicao Condicional"
      ],
      "metadata": {
        "id": "OzR0OYpbvg9U"
      }
    },
    {
      "cell_type": "code",
      "source": [
        "nome = 'Antonio'\n",
        "var = 100 if len(nome) > 5 else 0\n",
        "print('O valor de var é: ',var)"
      ],
      "metadata": {
        "colab": {
          "base_uri": "https://localhost:8080/"
        },
        "id": "l1REIC8Pvjdn",
        "outputId": "bbfaa654-09ab-4ad6-e4a4-0d587e07f22d"
      },
      "execution_count": 35,
      "outputs": [
        {
          "output_type": "stream",
          "name": "stdout",
          "text": [
            "O valor de var é:  100\n"
          ]
        }
      ]
    }
  ]
}