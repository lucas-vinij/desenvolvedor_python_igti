{
  "nbformat": 4,
  "nbformat_minor": 0,
  "metadata": {
    "colab": {
      "provenance": [],
      "collapsed_sections": [],
      "authorship_tag": "ABX9TyM9hb9aC0+38v/+Sc0UTyNO",
      "include_colab_link": true
    },
    "kernelspec": {
      "name": "python3",
      "display_name": "Python 3"
    },
    "language_info": {
      "name": "python"
    }
  },
  "cells": [
    {
      "cell_type": "markdown",
      "metadata": {
        "id": "view-in-github",
        "colab_type": "text"
      },
      "source": [
        "<a href=\"https://colab.research.google.com/github/lucas-vinij/desenvolvedor_python_igti/blob/main/Aula03.ipynb\" target=\"_parent\"><img src=\"https://colab.research.google.com/assets/colab-badge.svg\" alt=\"Open In Colab\"/></a>"
      ]
    },
    {
      "cell_type": "markdown",
      "source": [
        "# Aula 03\n",
        "Tipos **primitivos** de Dados e Operadores "
      ],
      "metadata": {
        "id": "UjJOWgQr_rKH"
      }
    },
    {
      "cell_type": "code",
      "execution_count": null,
      "metadata": {
        "id": "TGBldGOB_lpC"
      },
      "outputs": [],
      "source": [
        "# int, float, bool, str"
      ]
    },
    {
      "cell_type": "code",
      "source": [
        "x = 3\n",
        "y = -3\n",
        "big = 331241234124321412341234234213412423412341234\n",
        "print(f'{x} {y} {big}')"
      ],
      "metadata": {
        "colab": {
          "base_uri": "https://localhost:8080/"
        },
        "id": "QFwcgsuxAcVH",
        "outputId": "54e79e6c-4a13-420e-a54c-0a50cde6a107"
      },
      "execution_count": 5,
      "outputs": [
        {
          "output_type": "stream",
          "name": "stdout",
          "text": [
            "3 -3 331241234124321412341234234213412423412341234\n"
          ]
        }
      ]
    },
    {
      "cell_type": "code",
      "source": [
        "type(x)"
      ],
      "metadata": {
        "colab": {
          "base_uri": "https://localhost:8080/"
        },
        "id": "QtNME5KECvEX",
        "outputId": "f0d5405f-eed9-4d36-c9af-73ad19673819"
      },
      "execution_count": 7,
      "outputs": [
        {
          "output_type": "execute_result",
          "data": {
            "text/plain": [
              "int"
            ]
          },
          "metadata": {},
          "execution_count": 7
        }
      ]
    },
    {
      "cell_type": "code",
      "source": [
        "a = 3.5\n",
        "b = -a \n",
        "pi = 3.14151324134124213412354565536756756754\n"
      ],
      "metadata": {
        "id": "It1JesqkCwgu"
      },
      "execution_count": 8,
      "outputs": []
    },
    {
      "cell_type": "code",
      "source": [
        "x = True\n",
        "z = False \n",
        "if x == True:\n",
        "  print('ADSFASSADF')"
      ],
      "metadata": {
        "colab": {
          "base_uri": "https://localhost:8080/"
        },
        "id": "KWgPVjvTDK53",
        "outputId": "0c59dc14-1d52-40ba-b6ff-3ba76e44fbc5"
      },
      "execution_count": 10,
      "outputs": [
        {
          "output_type": "stream",
          "name": "stdout",
          "text": [
            "ADSFASSADF\n"
          ]
        }
      ]
    },
    {
      "cell_type": "code",
      "source": [
        "type(x)"
      ],
      "metadata": {
        "colab": {
          "base_uri": "https://localhost:8080/"
        },
        "id": "2W5JeDVdDzdK",
        "outputId": "b06190fb-d85c-407d-c056-f4a000e07712"
      },
      "execution_count": 12,
      "outputs": [
        {
          "output_type": "execute_result",
          "data": {
            "text/plain": [
              "bool"
            ]
          },
          "metadata": {},
          "execution_count": 12
        }
      ]
    },
    {
      "cell_type": "code",
      "source": [
        "a = 'String'\n",
        "a"
      ],
      "metadata": {
        "colab": {
          "base_uri": "https://localhost:8080/",
          "height": 35
        },
        "id": "PioaHe5pD-VU",
        "outputId": "bfdf558c-8636-4d3c-f28d-1d689002df5c"
      },
      "execution_count": 14,
      "outputs": [
        {
          "output_type": "execute_result",
          "data": {
            "text/plain": [
              "'String'"
            ],
            "application/vnd.google.colaboratory.intrinsic+json": {
              "type": "string"
            }
          },
          "metadata": {},
          "execution_count": 14
        }
      ]
    },
    {
      "cell_type": "code",
      "source": [
        "nome = \"Antonio Nunes\"\n",
        "texto = '''Antonio mora na\n",
        " cidade de \n",
        " Belo Horizonte.'''\n",
        "texto"
      ],
      "metadata": {
        "colab": {
          "base_uri": "https://localhost:8080/",
          "height": 35
        },
        "id": "GLuochZuE2le",
        "outputId": "66d40bad-aae5-4e9d-fa32-fc94a45aff76"
      },
      "execution_count": 26,
      "outputs": [
        {
          "output_type": "execute_result",
          "data": {
            "text/plain": [
              "'Antonio mora na\\n cidade de \\n Belo Horizonte.'"
            ],
            "application/vnd.google.colaboratory.intrinsic+json": {
              "type": "string"
            }
          },
          "metadata": {},
          "execution_count": 26
        }
      ]
    },
    {
      "cell_type": "code",
      "source": [
        "v = None \n",
        "v\n",
        "type(v)"
      ],
      "metadata": {
        "colab": {
          "base_uri": "https://localhost:8080/"
        },
        "id": "aA2XjNhwE_03",
        "outputId": "0da3f865-6384-4250-88d4-479c4e2e86dc"
      },
      "execution_count": 28,
      "outputs": [
        {
          "output_type": "execute_result",
          "data": {
            "text/plain": [
              "NoneType"
            ]
          },
          "metadata": {},
          "execution_count": 28
        }
      ]
    },
    {
      "cell_type": "markdown",
      "source": [
        "Operadores dos tipos **primitivos** de dados"
      ],
      "metadata": {
        "id": "o_C5uU-SGeE7"
      }
    },
    {
      "cell_type": "code",
      "source": [
        "2 + 2\n",
        "20 % 2\n",
        "13 % 5 \n",
        " "
      ],
      "metadata": {
        "id": "EzEZZOTqGkQQ"
      },
      "execution_count": null,
      "outputs": []
    },
    {
      "cell_type": "code",
      "source": [
        "lista = list(range(1,10))\n",
        "for x in lista:\n",
        "  if x % 2 != 0:\n",
        "    print(x,'Primo')\n",
        "  else:\n",
        "    print(x,'Par')"
      ],
      "metadata": {
        "colab": {
          "base_uri": "https://localhost:8080/"
        },
        "id": "wVYW1boQKaLf",
        "outputId": "af199445-9b8a-496e-aac3-4ac4f8ad2725"
      },
      "execution_count": 37,
      "outputs": [
        {
          "output_type": "stream",
          "name": "stdout",
          "text": [
            "1 Primo\n",
            "2 Par\n",
            "3 Primo\n",
            "4 Par\n",
            "5 Primo\n",
            "6 Par\n",
            "7 Primo\n",
            "8 Par\n",
            "9 Primo\n"
          ]
        }
      ]
    },
    {
      "cell_type": "code",
      "source": [
        "B = 15\n",
        "b = 10\n",
        "h = 8\n",
        "area = (B + b) * h /2\n",
        "print(f'Area do trapezio: {area}')"
      ],
      "metadata": {
        "colab": {
          "base_uri": "https://localhost:8080/"
        },
        "id": "V2Xv98B7LAo9",
        "outputId": "b16b1ef4-e03c-4c50-a55b-489315159ee7"
      },
      "execution_count": 39,
      "outputs": [
        {
          "output_type": "stream",
          "name": "stdout",
          "text": [
            "Area do trapezio: 100.0\n"
          ]
        }
      ]
    },
    {
      "cell_type": "markdown",
      "source": [
        "Operadores de **Comparação**"
      ],
      "metadata": {
        "id": "N9uSZZEWLQ8C"
      }
    },
    {
      "cell_type": "code",
      "source": [
        "10 == 55"
      ],
      "metadata": {
        "colab": {
          "base_uri": "https://localhost:8080/"
        },
        "id": "62YT7ahHLblA",
        "outputId": "310818f7-1c64-43ba-be5d-7d3f7fc6f59f"
      },
      "execution_count": 40,
      "outputs": [
        {
          "output_type": "execute_result",
          "data": {
            "text/plain": [
              "False"
            ]
          },
          "metadata": {},
          "execution_count": 40
        }
      ]
    },
    {
      "cell_type": "code",
      "source": [
        "10 != 55"
      ],
      "metadata": {
        "colab": {
          "base_uri": "https://localhost:8080/"
        },
        "id": "dd0zHY_pLdlN",
        "outputId": "300c1627-d287-4867-f7e5-ee93b05d17fd"
      },
      "execution_count": 41,
      "outputs": [
        {
          "output_type": "execute_result",
          "data": {
            "text/plain": [
              "True"
            ]
          },
          "metadata": {},
          "execution_count": 41
        }
      ]
    },
    {
      "cell_type": "code",
      "source": [
        "x = 5\n",
        "\n",
        "y = 10\n",
        "x == y"
      ],
      "metadata": {
        "colab": {
          "base_uri": "https://localhost:8080/"
        },
        "id": "uRoIYgTULfGm",
        "outputId": "adb05f35-a7d5-48e2-f55d-b1e83799e9fd"
      },
      "execution_count": 44,
      "outputs": [
        {
          "output_type": "execute_result",
          "data": {
            "text/plain": [
              "False"
            ]
          },
          "metadata": {},
          "execution_count": 44
        }
      ]
    },
    {
      "cell_type": "code",
      "source": [
        "x = 5\n",
        "y = 1\n",
        "s = 'Palavra'\n",
        "x != s"
      ],
      "metadata": {
        "colab": {
          "base_uri": "https://localhost:8080/"
        },
        "id": "o7m9UkDUL2PV",
        "outputId": "23d3ee5c-d34e-491e-975f-cc3f130969e1"
      },
      "execution_count": 47,
      "outputs": [
        {
          "output_type": "execute_result",
          "data": {
            "text/plain": [
              "True"
            ]
          },
          "metadata": {},
          "execution_count": 47
        }
      ]
    },
    {
      "cell_type": "code",
      "source": [
        "a = 'casa'\n",
        "b = 'predio'\n",
        "c = 'elevador'\n",
        "d = 'casamento'\n",
        "a < b\n",
        "b < c\n",
        "'abacaxi' > 'casa'"
      ],
      "metadata": {
        "colab": {
          "base_uri": "https://localhost:8080/"
        },
        "id": "iHaps7oyMD4Q",
        "outputId": "05d06962-6234-4115-dcd1-2557a20e4312"
      },
      "execution_count": 51,
      "outputs": [
        {
          "output_type": "execute_result",
          "data": {
            "text/plain": [
              "False"
            ]
          },
          "metadata": {},
          "execution_count": 51
        }
      ]
    },
    {
      "cell_type": "markdown",
      "source": [
        "Operadores **Lógicos**"
      ],
      "metadata": {
        "id": "O0QoY5D8Mxmm"
      }
    },
    {
      "cell_type": "code",
      "source": [
        "True or False"
      ],
      "metadata": {
        "colab": {
          "base_uri": "https://localhost:8080/"
        },
        "id": "gdpkf8EJM0Eu",
        "outputId": "a3992889-3ea5-4abc-d6b5-fd7891a4fc89"
      },
      "execution_count": 52,
      "outputs": [
        {
          "output_type": "execute_result",
          "data": {
            "text/plain": [
              "True"
            ]
          },
          "metadata": {},
          "execution_count": 52
        }
      ]
    },
    {
      "cell_type": "code",
      "source": [
        "True and False"
      ],
      "metadata": {
        "colab": {
          "base_uri": "https://localhost:8080/"
        },
        "id": "8s1QUPMQM3ji",
        "outputId": "bd8976db-b150-4bc6-81cf-fdeb2dc0e384"
      },
      "execution_count": 53,
      "outputs": [
        {
          "output_type": "execute_result",
          "data": {
            "text/plain": [
              "False"
            ]
          },
          "metadata": {},
          "execution_count": 53
        }
      ]
    },
    {
      "cell_type": "code",
      "source": [
        "False and False "
      ],
      "metadata": {
        "colab": {
          "base_uri": "https://localhost:8080/"
        },
        "id": "xoNgREmsM5-X",
        "outputId": "2327454f-13d0-463e-9e3f-a178b87297eb"
      },
      "execution_count": 54,
      "outputs": [
        {
          "output_type": "execute_result",
          "data": {
            "text/plain": [
              "False"
            ]
          },
          "metadata": {},
          "execution_count": 54
        }
      ]
    },
    {
      "cell_type": "code",
      "source": [
        "True and True "
      ],
      "metadata": {
        "colab": {
          "base_uri": "https://localhost:8080/"
        },
        "id": "-oq1KGAWM8c_",
        "outputId": "466f28aa-c768-4258-f9ad-210f6f23d5ab"
      },
      "execution_count": 55,
      "outputs": [
        {
          "output_type": "execute_result",
          "data": {
            "text/plain": [
              "True"
            ]
          },
          "metadata": {},
          "execution_count": 55
        }
      ]
    },
    {
      "cell_type": "code",
      "source": [
        "False or False "
      ],
      "metadata": {
        "colab": {
          "base_uri": "https://localhost:8080/"
        },
        "id": "DSf_K50wM-Q-",
        "outputId": "6aadf4f0-9ff9-49ec-cddd-996c4b506f42"
      },
      "execution_count": 56,
      "outputs": [
        {
          "output_type": "execute_result",
          "data": {
            "text/plain": [
              "False"
            ]
          },
          "metadata": {},
          "execution_count": 56
        }
      ]
    },
    {
      "cell_type": "code",
      "source": [],
      "metadata": {
        "id": "T5cTURGHNCFj"
      },
      "execution_count": null,
      "outputs": []
    }
  ]
}