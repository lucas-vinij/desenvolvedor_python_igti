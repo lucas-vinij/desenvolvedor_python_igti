{
  "nbformat": 4,
  "nbformat_minor": 0,
  "metadata": {
    "colab": {
      "provenance": [],
      "collapsed_sections": [],
      "authorship_tag": "ABX9TyNTfV1eXfi2Srq1kBioFdAk",
      "include_colab_link": true
    },
    "kernelspec": {
      "name": "python3",
      "display_name": "Python 3"
    },
    "language_info": {
      "name": "python"
    }
  },
  "cells": [
    {
      "cell_type": "markdown",
      "metadata": {
        "id": "view-in-github",
        "colab_type": "text"
      },
      "source": [
        "<a href=\"https://colab.research.google.com/github/lucas-vinij/desenvolvedor_python_igti/blob/main/Aula02.ipynb\" target=\"_parent\"><img src=\"https://colab.research.google.com/assets/colab-badge.svg\" alt=\"Open In Colab\"/></a>"
      ]
    },
    {
      "cell_type": "markdown",
      "source": [
        "# Aula 02"
      ],
      "metadata": {
        "id": "2MtEnWqAUe1f"
      }
    },
    {
      "cell_type": "code",
      "source": [
        "# Isso é um comentario \n",
        "multi = lambda x,y : x * y\n",
        "multi(3,2)"
      ],
      "metadata": {
        "id": "d4eQCwEzUpJd",
        "colab": {
          "base_uri": "https://localhost:8080/"
        },
        "outputId": "ca06244c-7aa4-4a7d-bc1d-e580ee0b0a84"
      },
      "execution_count": null,
      "outputs": [
        {
          "output_type": "execute_result",
          "data": {
            "text/plain": [
              "6"
            ]
          },
          "metadata": {},
          "execution_count": 4
        }
      ]
    },
    {
      "cell_type": "code",
      "source": [
        "# criando variaveis \n",
        "pessoa = 'Isso é um Texto'\n",
        "idade = 34\n",
        "altura = 1.76\n",
        "\n",
        "print(f'{pessoa} \\n{idade} \\n{altura}')"
      ],
      "metadata": {
        "colab": {
          "base_uri": "https://localhost:8080/"
        },
        "id": "OEtIH20HYc5n",
        "outputId": "67ea7382-7f44-4bb1-8e61-044069e04cb6"
      },
      "execution_count": null,
      "outputs": [
        {
          "output_type": "stream",
          "name": "stdout",
          "text": [
            "Isso é um Texto \n",
            "34 \n",
            "1.76\n"
          ]
        }
      ]
    },
    {
      "cell_type": "code",
      "source": [
        "idade = 2022 - 2000\n",
        "idade"
      ],
      "metadata": {
        "colab": {
          "base_uri": "https://localhost:8080/"
        },
        "id": "AZCORHPjZsOO",
        "outputId": "1735608a-64d6-4372-a036-bdd1b1df83d9"
      },
      "execution_count": null,
      "outputs": [
        {
          "output_type": "execute_result",
          "data": {
            "text/plain": [
              "22"
            ]
          },
          "metadata": {},
          "execution_count": 15
        }
      ]
    },
    {
      "cell_type": "code",
      "source": [
        "decimal = 15 / 3\n",
        "decimal_2 = 15 // 3\n",
        "print(decimal,'\\n',decimal_2)"
      ],
      "metadata": {
        "colab": {
          "base_uri": "https://localhost:8080/"
        },
        "id": "eX_kK6dkaib5",
        "outputId": "5ca313fd-74cf-482d-b749-d4f98c52d8b9"
      },
      "execution_count": null,
      "outputs": [
        {
          "output_type": "stream",
          "name": "stdout",
          "text": [
            "5.0 \n",
            " 5\n"
          ]
        }
      ]
    },
    {
      "cell_type": "code",
      "source": [
        "'''\n",
        "Regras sobre variaveis \n",
        "  Não é permitido utilizar caracateres especiais\n",
        "  nem espaço em branco. Não podem comecar com numeros ou pontuacao\n",
        "'''"
      ],
      "metadata": {
        "colab": {
          "base_uri": "https://localhost:8080/",
          "height": 52
        },
        "id": "qlIo2d6Da36S",
        "outputId": "5e30cce2-1390-4c1a-d4c3-d1fe09cd1c42"
      },
      "execution_count": null,
      "outputs": [
        {
          "output_type": "execute_result",
          "data": {
            "text/plain": [
              "'\\nRegras sobre variaveis \\n  Não é permitido utilizar caracateres especiais\\n  nem espaço em branco. Não podem comecar com numeros ou pontuacao\\n'"
            ],
            "application/vnd.google.colaboratory.intrinsic+json": {
              "type": "string"
            }
          },
          "metadata": {},
          "execution_count": 21
        }
      ]
    },
    {
      "cell_type": "code",
      "source": [
        "variavel = 0\n",
        "variavel2 = 99\n",
        "print(variavel, variavel2)\n"
      ],
      "metadata": {
        "colab": {
          "base_uri": "https://localhost:8080/"
        },
        "id": "tKxRxPh2bx67",
        "outputId": "62488de0-8986-4283-fb47-5e36ad33555f"
      },
      "execution_count": null,
      "outputs": [
        {
          "output_type": "stream",
          "name": "stdout",
          "text": [
            "0 99\n"
          ]
        }
      ]
    },
    {
      "cell_type": "code",
      "source": [
        "NOME = 'Lucas'\n",
        "Sobrenome = 'Nazare'\n",
        "print(NOME, Sobrenome)"
      ],
      "metadata": {
        "colab": {
          "base_uri": "https://localhost:8080/"
        },
        "id": "bBlYxXbjcSMA",
        "outputId": "989619e3-86d4-4cec-d186-e42e721cc04a"
      },
      "execution_count": null,
      "outputs": [
        {
          "output_type": "stream",
          "name": "stdout",
          "text": [
            "Lucas Nazare\n"
          ]
        }
      ]
    },
    {
      "cell_type": "code",
      "source": [
        "nome = 'Jose'\n",
        "print(NOME, nome)"
      ],
      "metadata": {
        "colab": {
          "base_uri": "https://localhost:8080/"
        },
        "id": "ueGiQcVKcZqx",
        "outputId": "4c317f46-32b2-4025-b900-043519aeb894"
      },
      "execution_count": null,
      "outputs": [
        {
          "output_type": "stream",
          "name": "stdout",
          "text": [
            "Lucas Jose\n"
          ]
        }
      ]
    },
    {
      "cell_type": "markdown",
      "source": [
        "# Tipos de erros \n",
        "1. Erros de Sintaxe\n",
        "2. Erros em Tempo de Execução\n",
        "3. Erros Lógicos"
      ],
      "metadata": {
        "id": "gG_qanz2e2kr"
      }
    },
    {
      "cell_type": "code",
      "source": [
        "# Erro de sintaxe \n",
        "x = 3\n",
        "y = 5\n",
        "print x + y"
      ],
      "metadata": {
        "colab": {
          "base_uri": "https://localhost:8080/",
          "height": 149
        },
        "id": "7DKUnO5ge_NE",
        "outputId": "5c5cc17f-78b8-4dfa-96c0-d9014bed1fda"
      },
      "execution_count": null,
      "outputs": [
        {
          "output_type": "error",
          "ename": "SyntaxError",
          "evalue": "ignored",
          "traceback": [
            "\u001b[0;36m  File \u001b[0;32m\"<ipython-input-28-ff353a805b5d>\"\u001b[0;36m, line \u001b[0;32m4\u001b[0m\n\u001b[0;31m    print x + y\u001b[0m\n\u001b[0m          ^\u001b[0m\n\u001b[0;31mSyntaxError\u001b[0m\u001b[0;31m:\u001b[0m Missing parentheses in call to 'print'. Did you mean print(x + y)?\n"
          ]
        }
      ]
    },
    {
      "cell_type": "code",
      "source": [
        "# utilizacao de uma variavel inexistente\n",
        "x = 0 \n",
        "print(xx)\n"
      ],
      "metadata": {
        "colab": {
          "base_uri": "https://localhost:8080/",
          "height": 202
        },
        "id": "vOmHQl7NfHcw",
        "outputId": "eb91c603-9315-4e7c-df40-df5790fa9b0b"
      },
      "execution_count": null,
      "outputs": [
        {
          "output_type": "error",
          "ename": "NameError",
          "evalue": "ignored",
          "traceback": [
            "\u001b[0;31m---------------------------------------------------------------------------\u001b[0m",
            "\u001b[0;31mNameError\u001b[0m                                 Traceback (most recent call last)",
            "\u001b[0;32m<ipython-input-30-9c9a388e01e9>\u001b[0m in \u001b[0;36m<module>\u001b[0;34m\u001b[0m\n\u001b[1;32m      1\u001b[0m \u001b[0;31m# utilizacao de uma variavel inexistente\u001b[0m\u001b[0;34m\u001b[0m\u001b[0;34m\u001b[0m\u001b[0;34m\u001b[0m\u001b[0m\n\u001b[1;32m      2\u001b[0m \u001b[0mx\u001b[0m \u001b[0;34m=\u001b[0m \u001b[0;36m0\u001b[0m\u001b[0;34m\u001b[0m\u001b[0;34m\u001b[0m\u001b[0m\n\u001b[0;32m----> 3\u001b[0;31m \u001b[0mprint\u001b[0m\u001b[0;34m(\u001b[0m\u001b[0mxx\u001b[0m\u001b[0;34m)\u001b[0m\u001b[0;34m\u001b[0m\u001b[0;34m\u001b[0m\u001b[0m\n\u001b[0m",
            "\u001b[0;31mNameError\u001b[0m: name 'xx' is not defined"
          ]
        }
      ]
    },
    {
      "cell_type": "code",
      "source": [
        "# erro logico \n",
        "x = 5.0\n",
        "y = 7.0\n",
        "z = 12.0\n",
        "media = x + y +z /3\n",
        "print(media)"
      ],
      "metadata": {
        "colab": {
          "base_uri": "https://localhost:8080/"
        },
        "id": "iW2yIj_bfefS",
        "outputId": "be78d7b7-efcc-4f6e-b7fa-fa01f809c2fa"
      },
      "execution_count": null,
      "outputs": [
        {
          "output_type": "stream",
          "name": "stdout",
          "text": [
            "16.0\n"
          ]
        }
      ]
    },
    {
      "cell_type": "code",
      "source": [
        "x = 5.0\n",
        "y = 7.0\n",
        "z = 12.0\n",
        "media = (x + y + z) /3\n",
        "print(media)"
      ],
      "metadata": {
        "colab": {
          "base_uri": "https://localhost:8080/"
        },
        "id": "SmwUKPpifmDs",
        "outputId": "5f3a1f32-3b63-4d32-c2df-7d2222e90787"
      },
      "execution_count": null,
      "outputs": [
        {
          "output_type": "stream",
          "name": "stdout",
          "text": [
            "8.0\n"
          ]
        }
      ]
    },
    {
      "cell_type": "code",
      "source": [
        "if x == 3:  \n",
        "  print('HH')\n",
        "else:\n",
        "  print('AA')"
      ],
      "metadata": {
        "colab": {
          "base_uri": "https://localhost:8080/"
        },
        "id": "Dcq5ktvKgmu9",
        "outputId": "c8248077-df44-4a9b-b853-73a056d23da8"
      },
      "execution_count": null,
      "outputs": [
        {
          "output_type": "stream",
          "name": "stdout",
          "text": [
            "AA\n"
          ]
        }
      ]
    }
  ]
}