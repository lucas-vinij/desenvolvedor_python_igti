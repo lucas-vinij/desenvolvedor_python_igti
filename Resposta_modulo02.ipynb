{
  "nbformat": 4,
  "nbformat_minor": 0,
  "metadata": {
    "colab": {
      "provenance": [],
      "collapsed_sections": [],
      "authorship_tag": "ABX9TyOnlGYHJWxj4jJJgbvpA7uj",
      "include_colab_link": true
    },
    "kernelspec": {
      "name": "python3",
      "display_name": "Python 3"
    },
    "language_info": {
      "name": "python"
    }
  },
  "cells": [
    {
      "cell_type": "markdown",
      "metadata": {
        "id": "view-in-github",
        "colab_type": "text"
      },
      "source": [
        "<a href=\"https://colab.research.google.com/github/lucas-vinij/desenvolvedor_python_igti/blob/main/Resposta_modulo02.ipynb\" target=\"_parent\"><img src=\"https://colab.research.google.com/assets/colab-badge.svg\" alt=\"Open In Colab\"/></a>"
      ]
    },
    {
      "cell_type": "code",
      "execution_count": 13,
      "metadata": {
        "colab": {
          "base_uri": "https://localhost:8080/"
        },
        "id": "sAtqFtgzc_Wo",
        "outputId": "b96dc306-bb49-4848-b633-ed85d0e07569"
      },
      "outputs": [
        {
          "output_type": "stream",
          "name": "stdout",
          "text": [
            "{'Maria': 5, 'Julieta': 7, 'Fernando': 8, 'Cristiano': 9, 'Cláudio': 7}\n"
          ]
        }
      ],
      "source": [
        "# Atividade 01\n",
        "\n",
        "nomes = ['Maria', 'Julieta', 'Fernando', 'Cristiano', 'Julieta', 'Maria', 'Fernando', 'Cláudio']\n",
        "nomes_dic = {x:len(x) for x in nomes}\n",
        "print(nomes_dic)"
      ]
    },
    {
      "cell_type": "code",
      "source": [
        "# Atividade 02\n",
        "\n",
        "def area(r, pi = 3.14):\n",
        "  return pi*(r**2)\n",
        "\n",
        "print(area(8))\n",
        "print(area(8,3.141592))\n"
      ],
      "metadata": {
        "colab": {
          "base_uri": "https://localhost:8080/"
        },
        "id": "qnbUBHXmeE6V",
        "outputId": "2b1c21c8-2da7-4c4b-b54a-ba3cb5704c5a"
      },
      "execution_count": 24,
      "outputs": [
        {
          "output_type": "stream",
          "name": "stdout",
          "text": [
            "200.96\n",
            "201.061888\n"
          ]
        }
      ]
    },
    {
      "cell_type": "code",
      "source": [
        "# Atividade 03 \n",
        "\n",
        "area = lambda r,pi=3.14 : pi*(r**2)\n",
        "print(area(8))\n",
        "print(area(8,3.141592)) "
      ],
      "metadata": {
        "colab": {
          "base_uri": "https://localhost:8080/"
        },
        "id": "NXOEdqugi-gy",
        "outputId": "ec255c72-5ef9-4cc9-dc66-90cdd80ef8ed"
      },
      "execution_count": 29,
      "outputs": [
        {
          "output_type": "stream",
          "name": "stdout",
          "text": [
            "200.96\n",
            "201.061888\n"
          ]
        }
      ]
    },
    {
      "cell_type": "code",
      "source": [
        "# Atividade 04\n",
        "import processalista\n",
        "lista = list(range(1,31))\n"
      ],
      "metadata": {
        "id": "7BLkG8Ipjzqs"
      },
      "execution_count": 81,
      "outputs": []
    },
    {
      "cell_type": "code",
      "source": [
        "print(f'Maior:{maior_impar(lista)}')\n",
        "print(f'Menor:{menor_impar(lista)}')\n",
        "print(f'Maior e Menor:{maior_menor_impar(lista)}')"
      ],
      "metadata": {
        "colab": {
          "base_uri": "https://localhost:8080/"
        },
        "id": "8IV_fndQqZVw",
        "outputId": "6ac85106-44fc-45c1-a7b9-df94e9d73d7f"
      },
      "execution_count": 97,
      "outputs": [
        {
          "output_type": "stream",
          "name": "stdout",
          "text": [
            "Maior:29\n",
            "Menor:1\n",
            "Maior e Menor:(29, 1)\n"
          ]
        }
      ]
    },
    {
      "cell_type": "code",
      "source": [
        "# Atividade 05\n",
        "# relação de dias da semana que cada médico atende\n",
        "cardiologista = {'terca', 'quarta'}\n",
        "ortopedista = {'terca', 'quinta'}\n",
        "dermatologista = {'segunda', 'quarta', 'sexta'}\n",
        "neurologista = {'terca', 'quinta', 'sexta'}\n",
        "psiquiatra = {'segunda', 'quarta', 'sexta'}\n"
      ],
      "metadata": {
        "id": "15680M3crEIN"
      },
      "execution_count": 98,
      "outputs": []
    },
    {
      "cell_type": "code",
      "source": [
        "# Calcula quais os dias possíveis para dois médicos\n",
        "def disp_dois_especialistas(medico01, medico02):\n",
        "  \n",
        "  resultado = medico01.intersection(medico02)\n",
        "  print(resultado)\n",
        "\n",
        "disp_dois_especialistas(ortopedista, neurologista)"
      ],
      "metadata": {
        "colab": {
          "base_uri": "https://localhost:8080/"
        },
        "id": "jdpgw2zcroG-",
        "outputId": "36fc86eb-5fa0-42a9-fe45-8a71c9624b61"
      },
      "execution_count": 105,
      "outputs": [
        {
          "output_type": "stream",
          "name": "stdout",
          "text": [
            "{'terca', 'quinta'}\n"
          ]
        }
      ]
    },
    {
      "cell_type": "code",
      "source": [
        "# Médicos solicitados: dermatologista, neurologista, psquiatra\n",
        "def disp_tres_especialistas(medico1, medico2, medico3):\n",
        " \n",
        "  result = medico1.intersection(medico2, medico3)\n",
        "  print(result)\n",
        "\n",
        "disp_tres_especialistas(dermatologista, neurologista, psiquiatra)"
      ],
      "metadata": {
        "colab": {
          "base_uri": "https://localhost:8080/"
        },
        "id": "jnlb99FrtNDM",
        "outputId": "7a0a9f77-7a22-41e8-d7fe-baa535fbc662"
      },
      "execution_count": 114,
      "outputs": [
        {
          "output_type": "stream",
          "name": "stdout",
          "text": [
            "{'sexta'}\n"
          ]
        }
      ]
    }
  ]
}