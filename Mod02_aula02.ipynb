{
  "nbformat": 4,
  "nbformat_minor": 0,
  "metadata": {
    "colab": {
      "provenance": [],
      "collapsed_sections": [],
      "authorship_tag": "ABX9TyMktrtRLgPV3w6udWhl/5gy",
      "include_colab_link": true
    },
    "kernelspec": {
      "name": "python3",
      "display_name": "Python 3"
    },
    "language_info": {
      "name": "python"
    }
  },
  "cells": [
    {
      "cell_type": "markdown",
      "metadata": {
        "id": "view-in-github",
        "colab_type": "text"
      },
      "source": [
        "<a href=\"https://colab.research.google.com/github/lucas-vinij/desenvolvedor_python_igti/blob/main/Mod02_aula02.ipynb\" target=\"_parent\"><img src=\"https://colab.research.google.com/assets/colab-badge.svg\" alt=\"Open In Colab\"/></a>"
      ]
    },
    {
      "cell_type": "markdown",
      "source": [
        "Aula 02 | Modulo 2"
      ],
      "metadata": {
        "id": "mYZ2Ba-CQ59c"
      }
    },
    {
      "cell_type": "code",
      "execution_count": 1,
      "metadata": {
        "id": "QpnsQuhELWqN"
      },
      "outputs": [],
      "source": [
        "import numpy as np"
      ]
    },
    {
      "cell_type": "code",
      "source": [
        "# selecionar unico valor\n",
        "# x[linha, coluna] "
      ],
      "metadata": {
        "id": "-lpqvsfSREce"
      },
      "execution_count": 7,
      "outputs": []
    },
    {
      "cell_type": "code",
      "source": [
        "# slice \n",
        "# x[1:3]\n",
        "# x[1:3, 1:4] = (linhas 1:3, colunas 1:4)"
      ],
      "metadata": {
        "id": "mRaGFiSxRXCm"
      },
      "execution_count": 8,
      "outputs": []
    },
    {
      "cell_type": "code",
      "source": [
        "x = np.linspace(start=10, stop=100, num=10)\n",
        "print(f'x:{x}')\n",
        "print(f'shape:{x.shape}')"
      ],
      "metadata": {
        "colab": {
          "base_uri": "https://localhost:8080/"
        },
        "id": "qgAKOoFDS8UL",
        "outputId": "d9f6a1f9-f11d-48da-fbc1-cbd4aef7767b"
      },
      "execution_count": 9,
      "outputs": [
        {
          "output_type": "stream",
          "name": "stdout",
          "text": [
            "x:[ 10.  20.  30.  40.  50.  60.  70.  80.  90. 100.]\n",
            "shape:(10,)\n"
          ]
        }
      ]
    },
    {
      "cell_type": "code",
      "source": [
        "x[0]\n",
        "x[1]\n",
        "x[9]\n",
        "x[-1]\n",
        "x[-2]"
      ],
      "metadata": {
        "colab": {
          "base_uri": "https://localhost:8080/"
        },
        "id": "M3SxpKFeT3p_",
        "outputId": "8175ae6b-193a-44d3-84b8-8b7a96b1ebf5"
      },
      "execution_count": 13,
      "outputs": [
        {
          "output_type": "execute_result",
          "data": {
            "text/plain": [
              "90.0"
            ]
          },
          "metadata": {},
          "execution_count": 13
        }
      ]
    },
    {
      "cell_type": "code",
      "source": [
        "x[0:2]\n",
        "x[:2]\n",
        "x[-2:]"
      ],
      "metadata": {
        "colab": {
          "base_uri": "https://localhost:8080/"
        },
        "id": "z4vsJP3JT6U3",
        "outputId": "0efc08db-9c7e-40a7-8302-d76f1c7b5080"
      },
      "execution_count": 17,
      "outputs": [
        {
          "output_type": "execute_result",
          "data": {
            "text/plain": [
              "array([ 90., 100.])"
            ]
          },
          "metadata": {},
          "execution_count": 17
        }
      ]
    },
    {
      "cell_type": "code",
      "source": [
        "# slicing em arrays 2d (matrizes)\n",
        "x = x.reshape(2,5) # reshape de x para 2 linhas e 5 colunas\n",
        "x"
      ],
      "metadata": {
        "colab": {
          "base_uri": "https://localhost:8080/"
        },
        "id": "oACePcABUbqS",
        "outputId": "1705a86b-f94e-44e6-a348-569c94571d5b"
      },
      "execution_count": 18,
      "outputs": [
        {
          "output_type": "execute_result",
          "data": {
            "text/plain": [
              "array([[ 10.,  20.,  30.,  40.,  50.],\n",
              "       [ 60.,  70.,  80.,  90., 100.]])"
            ]
          },
          "metadata": {},
          "execution_count": 18
        }
      ]
    },
    {
      "cell_type": "code",
      "source": [
        "x[0,1]\n",
        "x[1,-2]\n",
        "x[1,4]\n",
        "x[-1,-1]\n"
      ],
      "metadata": {
        "colab": {
          "base_uri": "https://localhost:8080/"
        },
        "id": "4wKilhd0U5Sg",
        "outputId": "013795ed-b332-4b9a-baa3-8a42fac0123d"
      },
      "execution_count": 25,
      "outputs": [
        {
          "output_type": "execute_result",
          "data": {
            "text/plain": [
              "100.0"
            ]
          },
          "metadata": {},
          "execution_count": 25
        }
      ]
    },
    {
      "cell_type": "code",
      "source": [
        "x[0, :]\n",
        "x[0, 1:4]\n",
        "x[:, [-1]]\n",
        "x[:, -1]\n"
      ],
      "metadata": {
        "colab": {
          "base_uri": "https://localhost:8080/"
        },
        "id": "D9k2LK7QU9dt",
        "outputId": "67090553-d833-4ff1-a704-9d014c4088f5"
      },
      "execution_count": 31,
      "outputs": [
        {
          "output_type": "execute_result",
          "data": {
            "text/plain": [
              "array([ 50., 100.])"
            ]
          },
          "metadata": {},
          "execution_count": 31
        }
      ]
    },
    {
      "cell_type": "code",
      "source": [
        "# atencao com compartilhamento de memoria em subarrays\n",
        "x = np.array([1,2,3])\n",
        "print(x)\n",
        "y = x[:2]\n",
        "y[0] = -100 # alteracao do valor em y altera o valor de x\n",
        "print(x)\n"
      ],
      "metadata": {
        "colab": {
          "base_uri": "https://localhost:8080/"
        },
        "id": "uAOwfqL7Vmrz",
        "outputId": "f5b207fe-aeb8-428e-cea8-edb0a052f9b0"
      },
      "execution_count": 35,
      "outputs": [
        {
          "output_type": "stream",
          "name": "stdout",
          "text": [
            "[1 2 3]\n",
            "[-100    2    3]\n"
          ]
        }
      ]
    },
    {
      "cell_type": "code",
      "source": [
        "x = np.array([1,2,3])\n",
        "print(x)\n",
        "y = x[:2].copy()\n",
        "y[0] = -100\n",
        "print(x)"
      ],
      "metadata": {
        "colab": {
          "base_uri": "https://localhost:8080/"
        },
        "id": "YAMgln9QWFxe",
        "outputId": "31c40366-7ae2-489e-9411-be4cb283c5d3"
      },
      "execution_count": 36,
      "outputs": [
        {
          "output_type": "stream",
          "name": "stdout",
          "text": [
            "[1 2 3]\n",
            "[1 2 3]\n"
          ]
        }
      ]
    },
    {
      "cell_type": "code",
      "source": [],
      "metadata": {
        "id": "IrR5mMj5We0N"
      },
      "execution_count": null,
      "outputs": []
    }
  ]
}