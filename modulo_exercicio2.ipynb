{
  "nbformat": 4,
  "nbformat_minor": 0,
  "metadata": {
    "colab": {
      "provenance": [],
      "authorship_tag": "ABX9TyOAHb/QDZJB6UQwW0rwq963",
      "include_colab_link": true
    },
    "kernelspec": {
      "name": "python3",
      "display_name": "Python 3"
    },
    "language_info": {
      "name": "python"
    }
  },
  "cells": [
    {
      "cell_type": "markdown",
      "metadata": {
        "id": "view-in-github",
        "colab_type": "text"
      },
      "source": [
        "<a href=\"https://colab.research.google.com/github/lucas-vinij/desenvolvedor_python_igti/blob/main/modulo_exercicio2.ipynb\" target=\"_parent\"><img src=\"https://colab.research.google.com/assets/colab-badge.svg\" alt=\"Open In Colab\"/></a>"
      ]
    },
    {
      "cell_type": "code",
      "execution_count": null,
      "metadata": {
        "id": "-VxZ4CW-vQP_"
      },
      "outputs": [],
      "source": [
        "# Encontra e retorna o maior número impar presente na lista\n",
        "def maior_impar(lista):\n",
        "  return max([x for x in lista if x % 2 != 0])\n",
        "\n",
        "# Encontra e retorna o menor número impar presente na lista\n",
        "def menor_impar(lista):\n",
        "  return min([x for x in lista if x % 2 != 0])\n",
        "# Encontra e retorna o maior e o menor número ímpar presentes na lista\n",
        "\n",
        "def maior_menor_impar(lista):\n",
        "  maior = max([x for x in lista if x % 2 != 0]) \n",
        "  menor = min([x for x in lista if x % 2 != 0])\n",
        "  return maior,menor\n"
      ]
    }
  ]
}